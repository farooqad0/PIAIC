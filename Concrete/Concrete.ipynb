{
  "nbformat": 4,
  "nbformat_minor": 0,
  "metadata": {
    "colab": {
      "name": "Concrete.ipynb",
      "provenance": [],
      "collapsed_sections": [],
      "toc_visible": true
    },
    "kernelspec": {
      "name": "python3",
      "display_name": "Python 3"
    },
    "language_info": {
      "name": "python"
    },
    "accelerator": "TPU"
  },
  "cells": [
    {
      "cell_type": "markdown",
      "metadata": {
        "id": "CgPkafcBClHA"
      },
      "source": [
        "#Importing Libraries"
      ]
    },
    {
      "cell_type": "code",
      "metadata": {
        "id": "NipDpuvkCmi6"
      },
      "source": [
        "import pandas as pd\n",
        "import numpy as np\n",
        "import matplotlib.pyplot as plt"
      ],
      "execution_count": null,
      "outputs": []
    },
    {
      "cell_type": "markdown",
      "metadata": {
        "id": "UxC9ci-KDQoW"
      },
      "source": [
        "#Uploading Datasets"
      ]
    },
    {
      "cell_type": "code",
      "metadata": {
        "id": "B_vpinNiCxTc"
      },
      "source": [
        "data=pd.read_csv(\"compresive_strength_concrete.csv\")"
      ],
      "execution_count": null,
      "outputs": []
    },
    {
      "cell_type": "code",
      "metadata": {
        "colab": {
          "base_uri": "https://localhost:8080/"
        },
        "id": "VcJwnsAHIgRW",
        "outputId": "ae5e6e22-0e87-46ca-b520-c9336626e6df"
      },
      "source": [
        "data.shape"
      ],
      "execution_count": null,
      "outputs": [
        {
          "output_type": "execute_result",
          "data": {
            "text/plain": [
              "(1030, 9)"
            ]
          },
          "metadata": {
            "tags": []
          },
          "execution_count": 7
        }
      ]
    },
    {
      "cell_type": "code",
      "metadata": {
        "colab": {
          "base_uri": "https://localhost:8080/",
          "height": 326
        },
        "id": "U0yFP1M6Ikh-",
        "outputId": "769d5d3e-3100-4b3a-b009-cc08487e88a3"
      },
      "source": [
        "data.head()"
      ],
      "execution_count": null,
      "outputs": [
        {
          "output_type": "execute_result",
          "data": {
            "text/html": [
              "<div>\n",
              "<style scoped>\n",
              "    .dataframe tbody tr th:only-of-type {\n",
              "        vertical-align: middle;\n",
              "    }\n",
              "\n",
              "    .dataframe tbody tr th {\n",
              "        vertical-align: top;\n",
              "    }\n",
              "\n",
              "    .dataframe thead th {\n",
              "        text-align: right;\n",
              "    }\n",
              "</style>\n",
              "<table border=\"1\" class=\"dataframe\">\n",
              "  <thead>\n",
              "    <tr style=\"text-align: right;\">\n",
              "      <th></th>\n",
              "      <th>Cement (component 1)(kg in a m^3 mixture)</th>\n",
              "      <th>Blast Furnace Slag (component 2)(kg in a m^3 mixture)</th>\n",
              "      <th>Fly Ash (component 3)(kg in a m^3 mixture)</th>\n",
              "      <th>Water  (component 4)(kg in a m^3 mixture)</th>\n",
              "      <th>Superplasticizer (component 5)(kg in a m^3 mixture)</th>\n",
              "      <th>Coarse Aggregate  (component 6)(kg in a m^3 mixture)</th>\n",
              "      <th>Fine Aggregate (component 7)(kg in a m^3 mixture)</th>\n",
              "      <th>Age (day)</th>\n",
              "      <th>Concrete compressive strength(MPa, megapascals)</th>\n",
              "    </tr>\n",
              "  </thead>\n",
              "  <tbody>\n",
              "    <tr>\n",
              "      <th>0</th>\n",
              "      <td>540.0</td>\n",
              "      <td>0.0</td>\n",
              "      <td>0.0</td>\n",
              "      <td>162.0</td>\n",
              "      <td>2.5</td>\n",
              "      <td>1040.0</td>\n",
              "      <td>676.0</td>\n",
              "      <td>28</td>\n",
              "      <td>79.99</td>\n",
              "    </tr>\n",
              "    <tr>\n",
              "      <th>1</th>\n",
              "      <td>540.0</td>\n",
              "      <td>0.0</td>\n",
              "      <td>0.0</td>\n",
              "      <td>162.0</td>\n",
              "      <td>2.5</td>\n",
              "      <td>1055.0</td>\n",
              "      <td>676.0</td>\n",
              "      <td>28</td>\n",
              "      <td>61.89</td>\n",
              "    </tr>\n",
              "    <tr>\n",
              "      <th>2</th>\n",
              "      <td>332.5</td>\n",
              "      <td>142.5</td>\n",
              "      <td>0.0</td>\n",
              "      <td>228.0</td>\n",
              "      <td>0.0</td>\n",
              "      <td>932.0</td>\n",
              "      <td>594.0</td>\n",
              "      <td>270</td>\n",
              "      <td>40.27</td>\n",
              "    </tr>\n",
              "    <tr>\n",
              "      <th>3</th>\n",
              "      <td>332.5</td>\n",
              "      <td>142.5</td>\n",
              "      <td>0.0</td>\n",
              "      <td>228.0</td>\n",
              "      <td>0.0</td>\n",
              "      <td>932.0</td>\n",
              "      <td>594.0</td>\n",
              "      <td>365</td>\n",
              "      <td>41.05</td>\n",
              "    </tr>\n",
              "    <tr>\n",
              "      <th>4</th>\n",
              "      <td>198.6</td>\n",
              "      <td>132.4</td>\n",
              "      <td>0.0</td>\n",
              "      <td>192.0</td>\n",
              "      <td>0.0</td>\n",
              "      <td>978.4</td>\n",
              "      <td>825.5</td>\n",
              "      <td>360</td>\n",
              "      <td>44.30</td>\n",
              "    </tr>\n",
              "  </tbody>\n",
              "</table>\n",
              "</div>"
            ],
            "text/plain": [
              "   Cement (component 1)(kg in a m^3 mixture)  ...  Concrete compressive strength(MPa, megapascals) \n",
              "0                                      540.0  ...                                             79.99\n",
              "1                                      540.0  ...                                             61.89\n",
              "2                                      332.5  ...                                             40.27\n",
              "3                                      332.5  ...                                             41.05\n",
              "4                                      198.6  ...                                             44.30\n",
              "\n",
              "[5 rows x 9 columns]"
            ]
          },
          "metadata": {
            "tags": []
          },
          "execution_count": 8
        }
      ]
    },
    {
      "cell_type": "markdown",
      "metadata": {
        "id": "CcvbbUpmJFCi"
      },
      "source": [
        "#Selecting features and target feature"
      ]
    },
    {
      "cell_type": "code",
      "metadata": {
        "id": "OTv_VabYIj83"
      },
      "source": [
        "X = data.iloc[:,0:8]"
      ],
      "execution_count": null,
      "outputs": []
    },
    {
      "cell_type": "code",
      "metadata": {
        "colab": {
          "base_uri": "https://localhost:8080/",
          "height": 487
        },
        "id": "qhKSzLhAIy3o",
        "outputId": "e8215e48-05d5-45ab-de2c-080d20bbc1a2"
      },
      "source": [
        "X"
      ],
      "execution_count": null,
      "outputs": [
        {
          "output_type": "execute_result",
          "data": {
            "text/html": [
              "<div>\n",
              "<style scoped>\n",
              "    .dataframe tbody tr th:only-of-type {\n",
              "        vertical-align: middle;\n",
              "    }\n",
              "\n",
              "    .dataframe tbody tr th {\n",
              "        vertical-align: top;\n",
              "    }\n",
              "\n",
              "    .dataframe thead th {\n",
              "        text-align: right;\n",
              "    }\n",
              "</style>\n",
              "<table border=\"1\" class=\"dataframe\">\n",
              "  <thead>\n",
              "    <tr style=\"text-align: right;\">\n",
              "      <th></th>\n",
              "      <th>Cement (component 1)(kg in a m^3 mixture)</th>\n",
              "      <th>Blast Furnace Slag (component 2)(kg in a m^3 mixture)</th>\n",
              "      <th>Fly Ash (component 3)(kg in a m^3 mixture)</th>\n",
              "      <th>Water  (component 4)(kg in a m^3 mixture)</th>\n",
              "      <th>Superplasticizer (component 5)(kg in a m^3 mixture)</th>\n",
              "      <th>Coarse Aggregate  (component 6)(kg in a m^3 mixture)</th>\n",
              "      <th>Fine Aggregate (component 7)(kg in a m^3 mixture)</th>\n",
              "      <th>Age (day)</th>\n",
              "    </tr>\n",
              "  </thead>\n",
              "  <tbody>\n",
              "    <tr>\n",
              "      <th>0</th>\n",
              "      <td>540.0</td>\n",
              "      <td>0.0</td>\n",
              "      <td>0.0</td>\n",
              "      <td>162.0</td>\n",
              "      <td>2.5</td>\n",
              "      <td>1040.0</td>\n",
              "      <td>676.0</td>\n",
              "      <td>28</td>\n",
              "    </tr>\n",
              "    <tr>\n",
              "      <th>1</th>\n",
              "      <td>540.0</td>\n",
              "      <td>0.0</td>\n",
              "      <td>0.0</td>\n",
              "      <td>162.0</td>\n",
              "      <td>2.5</td>\n",
              "      <td>1055.0</td>\n",
              "      <td>676.0</td>\n",
              "      <td>28</td>\n",
              "    </tr>\n",
              "    <tr>\n",
              "      <th>2</th>\n",
              "      <td>332.5</td>\n",
              "      <td>142.5</td>\n",
              "      <td>0.0</td>\n",
              "      <td>228.0</td>\n",
              "      <td>0.0</td>\n",
              "      <td>932.0</td>\n",
              "      <td>594.0</td>\n",
              "      <td>270</td>\n",
              "    </tr>\n",
              "    <tr>\n",
              "      <th>3</th>\n",
              "      <td>332.5</td>\n",
              "      <td>142.5</td>\n",
              "      <td>0.0</td>\n",
              "      <td>228.0</td>\n",
              "      <td>0.0</td>\n",
              "      <td>932.0</td>\n",
              "      <td>594.0</td>\n",
              "      <td>365</td>\n",
              "    </tr>\n",
              "    <tr>\n",
              "      <th>4</th>\n",
              "      <td>198.6</td>\n",
              "      <td>132.4</td>\n",
              "      <td>0.0</td>\n",
              "      <td>192.0</td>\n",
              "      <td>0.0</td>\n",
              "      <td>978.4</td>\n",
              "      <td>825.5</td>\n",
              "      <td>360</td>\n",
              "    </tr>\n",
              "    <tr>\n",
              "      <th>...</th>\n",
              "      <td>...</td>\n",
              "      <td>...</td>\n",
              "      <td>...</td>\n",
              "      <td>...</td>\n",
              "      <td>...</td>\n",
              "      <td>...</td>\n",
              "      <td>...</td>\n",
              "      <td>...</td>\n",
              "    </tr>\n",
              "    <tr>\n",
              "      <th>1025</th>\n",
              "      <td>276.4</td>\n",
              "      <td>116.0</td>\n",
              "      <td>90.3</td>\n",
              "      <td>179.6</td>\n",
              "      <td>8.9</td>\n",
              "      <td>870.1</td>\n",
              "      <td>768.3</td>\n",
              "      <td>28</td>\n",
              "    </tr>\n",
              "    <tr>\n",
              "      <th>1026</th>\n",
              "      <td>322.2</td>\n",
              "      <td>0.0</td>\n",
              "      <td>115.6</td>\n",
              "      <td>196.0</td>\n",
              "      <td>10.4</td>\n",
              "      <td>817.9</td>\n",
              "      <td>813.4</td>\n",
              "      <td>28</td>\n",
              "    </tr>\n",
              "    <tr>\n",
              "      <th>1027</th>\n",
              "      <td>148.5</td>\n",
              "      <td>139.4</td>\n",
              "      <td>108.6</td>\n",
              "      <td>192.7</td>\n",
              "      <td>6.1</td>\n",
              "      <td>892.4</td>\n",
              "      <td>780.0</td>\n",
              "      <td>28</td>\n",
              "    </tr>\n",
              "    <tr>\n",
              "      <th>1028</th>\n",
              "      <td>159.1</td>\n",
              "      <td>186.7</td>\n",
              "      <td>0.0</td>\n",
              "      <td>175.6</td>\n",
              "      <td>11.3</td>\n",
              "      <td>989.6</td>\n",
              "      <td>788.9</td>\n",
              "      <td>28</td>\n",
              "    </tr>\n",
              "    <tr>\n",
              "      <th>1029</th>\n",
              "      <td>260.9</td>\n",
              "      <td>100.5</td>\n",
              "      <td>78.3</td>\n",
              "      <td>200.6</td>\n",
              "      <td>8.6</td>\n",
              "      <td>864.5</td>\n",
              "      <td>761.5</td>\n",
              "      <td>28</td>\n",
              "    </tr>\n",
              "  </tbody>\n",
              "</table>\n",
              "<p>1030 rows × 8 columns</p>\n",
              "</div>"
            ],
            "text/plain": [
              "      Cement (component 1)(kg in a m^3 mixture)  ...  Age (day)\n",
              "0                                         540.0  ...         28\n",
              "1                                         540.0  ...         28\n",
              "2                                         332.5  ...        270\n",
              "3                                         332.5  ...        365\n",
              "4                                         198.6  ...        360\n",
              "...                                         ...  ...        ...\n",
              "1025                                      276.4  ...         28\n",
              "1026                                      322.2  ...         28\n",
              "1027                                      148.5  ...         28\n",
              "1028                                      159.1  ...         28\n",
              "1029                                      260.9  ...         28\n",
              "\n",
              "[1030 rows x 8 columns]"
            ]
          },
          "metadata": {
            "tags": []
          },
          "execution_count": 10
        }
      ]
    },
    {
      "cell_type": "code",
      "metadata": {
        "id": "KHF-Yeo2JTyg"
      },
      "source": [
        "Y=data[data.columns[8]]"
      ],
      "execution_count": null,
      "outputs": []
    },
    {
      "cell_type": "code",
      "metadata": {
        "id": "MGtBbk3yLmH9"
      },
      "source": [
        "Y=pd.DataFrame(Y)"
      ],
      "execution_count": null,
      "outputs": []
    },
    {
      "cell_type": "code",
      "metadata": {
        "colab": {
          "base_uri": "https://localhost:8080/",
          "height": 419
        },
        "id": "xIgy8qa1LoUD",
        "outputId": "1562fc8b-5cb0-4b2f-d19a-fb02e625f91f"
      },
      "source": [
        "Y"
      ],
      "execution_count": null,
      "outputs": [
        {
          "output_type": "execute_result",
          "data": {
            "text/html": [
              "<div>\n",
              "<style scoped>\n",
              "    .dataframe tbody tr th:only-of-type {\n",
              "        vertical-align: middle;\n",
              "    }\n",
              "\n",
              "    .dataframe tbody tr th {\n",
              "        vertical-align: top;\n",
              "    }\n",
              "\n",
              "    .dataframe thead th {\n",
              "        text-align: right;\n",
              "    }\n",
              "</style>\n",
              "<table border=\"1\" class=\"dataframe\">\n",
              "  <thead>\n",
              "    <tr style=\"text-align: right;\">\n",
              "      <th></th>\n",
              "      <th>Concrete compressive strength(MPa, megapascals)</th>\n",
              "    </tr>\n",
              "  </thead>\n",
              "  <tbody>\n",
              "    <tr>\n",
              "      <th>0</th>\n",
              "      <td>79.99</td>\n",
              "    </tr>\n",
              "    <tr>\n",
              "      <th>1</th>\n",
              "      <td>61.89</td>\n",
              "    </tr>\n",
              "    <tr>\n",
              "      <th>2</th>\n",
              "      <td>40.27</td>\n",
              "    </tr>\n",
              "    <tr>\n",
              "      <th>3</th>\n",
              "      <td>41.05</td>\n",
              "    </tr>\n",
              "    <tr>\n",
              "      <th>4</th>\n",
              "      <td>44.30</td>\n",
              "    </tr>\n",
              "    <tr>\n",
              "      <th>...</th>\n",
              "      <td>...</td>\n",
              "    </tr>\n",
              "    <tr>\n",
              "      <th>1025</th>\n",
              "      <td>44.28</td>\n",
              "    </tr>\n",
              "    <tr>\n",
              "      <th>1026</th>\n",
              "      <td>31.18</td>\n",
              "    </tr>\n",
              "    <tr>\n",
              "      <th>1027</th>\n",
              "      <td>23.70</td>\n",
              "    </tr>\n",
              "    <tr>\n",
              "      <th>1028</th>\n",
              "      <td>32.77</td>\n",
              "    </tr>\n",
              "    <tr>\n",
              "      <th>1029</th>\n",
              "      <td>32.40</td>\n",
              "    </tr>\n",
              "  </tbody>\n",
              "</table>\n",
              "<p>1030 rows × 1 columns</p>\n",
              "</div>"
            ],
            "text/plain": [
              "      Concrete compressive strength(MPa, megapascals) \n",
              "0                                                79.99\n",
              "1                                                61.89\n",
              "2                                                40.27\n",
              "3                                                41.05\n",
              "4                                                44.30\n",
              "...                                                ...\n",
              "1025                                             44.28\n",
              "1026                                             31.18\n",
              "1027                                             23.70\n",
              "1028                                             32.77\n",
              "1029                                             32.40\n",
              "\n",
              "[1030 rows x 1 columns]"
            ]
          },
          "metadata": {
            "tags": []
          },
          "execution_count": 13
        }
      ]
    },
    {
      "cell_type": "markdown",
      "metadata": {
        "id": "D-Ay9azEJ9xC"
      },
      "source": [
        "# Standard Scaler"
      ]
    },
    {
      "cell_type": "markdown",
      "metadata": {
        "id": "hQTbB9KDFs4z"
      },
      "source": [
        "*** Standard scaler is used for standardization. It is represented as z.***"
      ]
    },
    {
      "cell_type": "markdown",
      "metadata": {
        "id": "jUpNxTdNF44p"
      },
      "source": [
        "![image.png](data:image/png;base64,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)"
      ]
    },
    {
      "cell_type": "code",
      "metadata": {
        "id": "4j08sID9Jxy4"
      },
      "source": [
        "from sklearn.preprocessing import StandardScaler # "
      ],
      "execution_count": null,
      "outputs": []
    },
    {
      "cell_type": "code",
      "metadata": {
        "id": "ejyZWEVIKOzP"
      },
      "source": [
        "scaler_x = StandardScaler()"
      ],
      "execution_count": null,
      "outputs": []
    },
    {
      "cell_type": "code",
      "metadata": {
        "colab": {
          "base_uri": "https://localhost:8080/"
        },
        "id": "jSptJfrLKVoX",
        "outputId": "03e3145e-cca0-4d04-9039-569ddd4e5d1e"
      },
      "source": [
        "scaler_x.fit(X)"
      ],
      "execution_count": null,
      "outputs": [
        {
          "output_type": "execute_result",
          "data": {
            "text/plain": [
              "StandardScaler(copy=True, with_mean=True, with_std=True)"
            ]
          },
          "metadata": {
            "tags": []
          },
          "execution_count": 17
        }
      ]
    },
    {
      "cell_type": "code",
      "metadata": {
        "id": "uoTEkKIQKZWP"
      },
      "source": [
        "X= scaler_x.transform(X)"
      ],
      "execution_count": null,
      "outputs": []
    },
    {
      "cell_type": "code",
      "metadata": {
        "id": "lt6Q7WP2KcvH"
      },
      "source": [
        "X=pd.DataFrame(X)"
      ],
      "execution_count": null,
      "outputs": []
    },
    {
      "cell_type": "code",
      "metadata": {
        "colab": {
          "base_uri": "https://localhost:8080/",
          "height": 419
        },
        "id": "RFZmKDINKduf",
        "outputId": "7ff37cb7-f4e3-4031-9c93-5e834f8282a5"
      },
      "source": [
        "X"
      ],
      "execution_count": null,
      "outputs": [
        {
          "output_type": "execute_result",
          "data": {
            "text/html": [
              "<div>\n",
              "<style scoped>\n",
              "    .dataframe tbody tr th:only-of-type {\n",
              "        vertical-align: middle;\n",
              "    }\n",
              "\n",
              "    .dataframe tbody tr th {\n",
              "        vertical-align: top;\n",
              "    }\n",
              "\n",
              "    .dataframe thead th {\n",
              "        text-align: right;\n",
              "    }\n",
              "</style>\n",
              "<table border=\"1\" class=\"dataframe\">\n",
              "  <thead>\n",
              "    <tr style=\"text-align: right;\">\n",
              "      <th></th>\n",
              "      <th>0</th>\n",
              "      <th>1</th>\n",
              "      <th>2</th>\n",
              "      <th>3</th>\n",
              "      <th>4</th>\n",
              "      <th>5</th>\n",
              "      <th>6</th>\n",
              "      <th>7</th>\n",
              "    </tr>\n",
              "  </thead>\n",
              "  <tbody>\n",
              "    <tr>\n",
              "      <th>0</th>\n",
              "      <td>2.477915</td>\n",
              "      <td>-0.856888</td>\n",
              "      <td>-0.847144</td>\n",
              "      <td>-0.916764</td>\n",
              "      <td>-0.620448</td>\n",
              "      <td>0.863154</td>\n",
              "      <td>-1.217670</td>\n",
              "      <td>-0.279733</td>\n",
              "    </tr>\n",
              "    <tr>\n",
              "      <th>1</th>\n",
              "      <td>2.477915</td>\n",
              "      <td>-0.856888</td>\n",
              "      <td>-0.847144</td>\n",
              "      <td>-0.916764</td>\n",
              "      <td>-0.620448</td>\n",
              "      <td>1.056164</td>\n",
              "      <td>-1.217670</td>\n",
              "      <td>-0.279733</td>\n",
              "    </tr>\n",
              "    <tr>\n",
              "      <th>2</th>\n",
              "      <td>0.491425</td>\n",
              "      <td>0.795526</td>\n",
              "      <td>-0.847144</td>\n",
              "      <td>2.175461</td>\n",
              "      <td>-1.039143</td>\n",
              "      <td>-0.526517</td>\n",
              "      <td>-2.240917</td>\n",
              "      <td>3.553066</td>\n",
              "    </tr>\n",
              "    <tr>\n",
              "      <th>3</th>\n",
              "      <td>0.491425</td>\n",
              "      <td>0.795526</td>\n",
              "      <td>-0.847144</td>\n",
              "      <td>2.175461</td>\n",
              "      <td>-1.039143</td>\n",
              "      <td>-0.526517</td>\n",
              "      <td>-2.240917</td>\n",
              "      <td>5.057677</td>\n",
              "    </tr>\n",
              "    <tr>\n",
              "      <th>4</th>\n",
              "      <td>-0.790459</td>\n",
              "      <td>0.678408</td>\n",
              "      <td>-0.847144</td>\n",
              "      <td>0.488793</td>\n",
              "      <td>-1.039143</td>\n",
              "      <td>0.070527</td>\n",
              "      <td>0.647884</td>\n",
              "      <td>4.978487</td>\n",
              "    </tr>\n",
              "    <tr>\n",
              "      <th>...</th>\n",
              "      <td>...</td>\n",
              "      <td>...</td>\n",
              "      <td>...</td>\n",
              "      <td>...</td>\n",
              "      <td>...</td>\n",
              "      <td>...</td>\n",
              "      <td>...</td>\n",
              "      <td>...</td>\n",
              "    </tr>\n",
              "    <tr>\n",
              "      <th>1025</th>\n",
              "      <td>-0.045645</td>\n",
              "      <td>0.488235</td>\n",
              "      <td>0.564545</td>\n",
              "      <td>-0.092171</td>\n",
              "      <td>0.451410</td>\n",
              "      <td>-1.323005</td>\n",
              "      <td>-0.065893</td>\n",
              "      <td>-0.279733</td>\n",
              "    </tr>\n",
              "    <tr>\n",
              "      <th>1026</th>\n",
              "      <td>0.392819</td>\n",
              "      <td>-0.856888</td>\n",
              "      <td>0.960068</td>\n",
              "      <td>0.676200</td>\n",
              "      <td>0.702626</td>\n",
              "      <td>-1.994680</td>\n",
              "      <td>0.496893</td>\n",
              "      <td>-0.279733</td>\n",
              "    </tr>\n",
              "    <tr>\n",
              "      <th>1027</th>\n",
              "      <td>-1.270088</td>\n",
              "      <td>0.759579</td>\n",
              "      <td>0.850635</td>\n",
              "      <td>0.521589</td>\n",
              "      <td>-0.017528</td>\n",
              "      <td>-1.036064</td>\n",
              "      <td>0.080107</td>\n",
              "      <td>-0.279733</td>\n",
              "    </tr>\n",
              "    <tr>\n",
              "      <th>1028</th>\n",
              "      <td>-1.168610</td>\n",
              "      <td>1.308065</td>\n",
              "      <td>-0.847144</td>\n",
              "      <td>-0.279579</td>\n",
              "      <td>0.853356</td>\n",
              "      <td>0.214641</td>\n",
              "      <td>0.191166</td>\n",
              "      <td>-0.279733</td>\n",
              "    </tr>\n",
              "    <tr>\n",
              "      <th>1029</th>\n",
              "      <td>-0.194033</td>\n",
              "      <td>0.308499</td>\n",
              "      <td>0.376945</td>\n",
              "      <td>0.891719</td>\n",
              "      <td>0.401166</td>\n",
              "      <td>-1.395062</td>\n",
              "      <td>-0.150748</td>\n",
              "      <td>-0.279733</td>\n",
              "    </tr>\n",
              "  </tbody>\n",
              "</table>\n",
              "<p>1030 rows × 8 columns</p>\n",
              "</div>"
            ],
            "text/plain": [
              "             0         1         2  ...         5         6         7\n",
              "0     2.477915 -0.856888 -0.847144  ...  0.863154 -1.217670 -0.279733\n",
              "1     2.477915 -0.856888 -0.847144  ...  1.056164 -1.217670 -0.279733\n",
              "2     0.491425  0.795526 -0.847144  ... -0.526517 -2.240917  3.553066\n",
              "3     0.491425  0.795526 -0.847144  ... -0.526517 -2.240917  5.057677\n",
              "4    -0.790459  0.678408 -0.847144  ...  0.070527  0.647884  4.978487\n",
              "...        ...       ...       ...  ...       ...       ...       ...\n",
              "1025 -0.045645  0.488235  0.564545  ... -1.323005 -0.065893 -0.279733\n",
              "1026  0.392819 -0.856888  0.960068  ... -1.994680  0.496893 -0.279733\n",
              "1027 -1.270088  0.759579  0.850635  ... -1.036064  0.080107 -0.279733\n",
              "1028 -1.168610  1.308065 -0.847144  ...  0.214641  0.191166 -0.279733\n",
              "1029 -0.194033  0.308499  0.376945  ... -1.395062 -0.150748 -0.279733\n",
              "\n",
              "[1030 rows x 8 columns]"
            ]
          },
          "metadata": {
            "tags": []
          },
          "execution_count": 20
        }
      ]
    },
    {
      "cell_type": "code",
      "metadata": {
        "id": "O-CPkq17LC8m"
      },
      "source": [
        "scaler_y=StandardScaler()"
      ],
      "execution_count": null,
      "outputs": []
    },
    {
      "cell_type": "code",
      "metadata": {
        "colab": {
          "base_uri": "https://localhost:8080/"
        },
        "id": "qbpbkUW0LKLf",
        "outputId": "17460bc0-6ee2-4c9d-c3c9-89fc92557783"
      },
      "source": [
        "scaler_y.fit(Y)"
      ],
      "execution_count": null,
      "outputs": [
        {
          "output_type": "execute_result",
          "data": {
            "text/plain": [
              "StandardScaler(copy=True, with_mean=True, with_std=True)"
            ]
          },
          "metadata": {
            "tags": []
          },
          "execution_count": 22
        }
      ]
    },
    {
      "cell_type": "code",
      "metadata": {
        "id": "SAFwSFJvLstf"
      },
      "source": [
        "Y=scaler_y.transform(Y)"
      ],
      "execution_count": null,
      "outputs": []
    },
    {
      "cell_type": "code",
      "metadata": {
        "id": "xsFyT-ovLzkI"
      },
      "source": [
        "Y=pd.DataFrame(Y)"
      ],
      "execution_count": null,
      "outputs": []
    },
    {
      "cell_type": "code",
      "metadata": {
        "colab": {
          "base_uri": "https://localhost:8080/",
          "height": 419
        },
        "id": "cG5lA-gdL1uY",
        "outputId": "3aef935c-5599-449e-94b8-567a212cc58b"
      },
      "source": [
        "Y"
      ],
      "execution_count": null,
      "outputs": [
        {
          "output_type": "execute_result",
          "data": {
            "text/html": [
              "<div>\n",
              "<style scoped>\n",
              "    .dataframe tbody tr th:only-of-type {\n",
              "        vertical-align: middle;\n",
              "    }\n",
              "\n",
              "    .dataframe tbody tr th {\n",
              "        vertical-align: top;\n",
              "    }\n",
              "\n",
              "    .dataframe thead th {\n",
              "        text-align: right;\n",
              "    }\n",
              "</style>\n",
              "<table border=\"1\" class=\"dataframe\">\n",
              "  <thead>\n",
              "    <tr style=\"text-align: right;\">\n",
              "      <th></th>\n",
              "      <th>0</th>\n",
              "    </tr>\n",
              "  </thead>\n",
              "  <tbody>\n",
              "    <tr>\n",
              "      <th>0</th>\n",
              "      <td>2.645408</td>\n",
              "    </tr>\n",
              "    <tr>\n",
              "      <th>1</th>\n",
              "      <td>1.561421</td>\n",
              "    </tr>\n",
              "    <tr>\n",
              "      <th>2</th>\n",
              "      <td>0.266627</td>\n",
              "    </tr>\n",
              "    <tr>\n",
              "      <th>3</th>\n",
              "      <td>0.313340</td>\n",
              "    </tr>\n",
              "    <tr>\n",
              "      <th>4</th>\n",
              "      <td>0.507979</td>\n",
              "    </tr>\n",
              "    <tr>\n",
              "      <th>...</th>\n",
              "      <td>...</td>\n",
              "    </tr>\n",
              "    <tr>\n",
              "      <th>1025</th>\n",
              "      <td>0.506781</td>\n",
              "    </tr>\n",
              "    <tr>\n",
              "      <th>1026</th>\n",
              "      <td>-0.277762</td>\n",
              "    </tr>\n",
              "    <tr>\n",
              "      <th>1027</th>\n",
              "      <td>-0.725729</td>\n",
              "    </tr>\n",
              "    <tr>\n",
              "      <th>1028</th>\n",
              "      <td>-0.182539</td>\n",
              "    </tr>\n",
              "    <tr>\n",
              "      <th>1029</th>\n",
              "      <td>-0.204697</td>\n",
              "    </tr>\n",
              "  </tbody>\n",
              "</table>\n",
              "<p>1030 rows × 1 columns</p>\n",
              "</div>"
            ],
            "text/plain": [
              "             0\n",
              "0     2.645408\n",
              "1     1.561421\n",
              "2     0.266627\n",
              "3     0.313340\n",
              "4     0.507979\n",
              "...        ...\n",
              "1025  0.506781\n",
              "1026 -0.277762\n",
              "1027 -0.725729\n",
              "1028 -0.182539\n",
              "1029 -0.204697\n",
              "\n",
              "[1030 rows x 1 columns]"
            ]
          },
          "metadata": {
            "tags": []
          },
          "execution_count": 25
        }
      ]
    },
    {
      "cell_type": "markdown",
      "metadata": {
        "id": "Lj_iCk5vL5E7"
      },
      "source": [
        "#Training and testing data splittion"
      ]
    },
    {
      "cell_type": "code",
      "metadata": {
        "id": "WrX-v3pYL3HI"
      },
      "source": [
        "from sklearn.model_selection import train_test_split"
      ],
      "execution_count": null,
      "outputs": []
    },
    {
      "cell_type": "code",
      "metadata": {
        "id": "FKo3lE-HMBY2"
      },
      "source": [
        "X_train,X_test,Y_train,Y_test=train_test_split(X,Y,train_size=0.5,shuffle=True)"
      ],
      "execution_count": null,
      "outputs": []
    },
    {
      "cell_type": "markdown",
      "metadata": {
        "id": "_LMH3tMeMbXN"
      },
      "source": [
        "#Model selection"
      ]
    },
    {
      "cell_type": "code",
      "metadata": {
        "id": "N71E3GgCMTCO"
      },
      "source": [
        "from tensorflow.keras import layers as L\n",
        "from tensorflow.keras import models as M"
      ],
      "execution_count": null,
      "outputs": []
    },
    {
      "cell_type": "code",
      "metadata": {
        "id": "PZIj7pgIMhcg"
      },
      "source": [
        "network = M.Sequential()"
      ],
      "execution_count": null,
      "outputs": []
    },
    {
      "cell_type": "code",
      "metadata": {
        "id": "jcIypzdFMrDX"
      },
      "source": [
        "network.add(L.Dense(10,activation=\"relu\",input_shape=(X_train.shape[1],)))"
      ],
      "execution_count": null,
      "outputs": []
    },
    {
      "cell_type": "code",
      "metadata": {
        "id": "gl8qko4FM3j4"
      },
      "source": [
        "network.add(L.Dense(8,activation=\"relu\"))"
      ],
      "execution_count": null,
      "outputs": []
    },
    {
      "cell_type": "code",
      "metadata": {
        "id": "LQ2VEXd9M8Uw"
      },
      "source": [
        "network.add(L.Dense(6,activation=\"relu\"))"
      ],
      "execution_count": null,
      "outputs": []
    },
    {
      "cell_type": "code",
      "metadata": {
        "id": "yWUmN_KvNCno"
      },
      "source": [
        "network.add(L.Dense(1))"
      ],
      "execution_count": null,
      "outputs": []
    },
    {
      "cell_type": "code",
      "metadata": {
        "id": "zSyeoyk0Nsa2"
      },
      "source": [
        "network.compile(optimizer=\"rmsprop\",loss=[\"mse\"],metrics=[\"mae\"])"
      ],
      "execution_count": null,
      "outputs": []
    },
    {
      "cell_type": "code",
      "metadata": {
        "colab": {
          "base_uri": "https://localhost:8080/"
        },
        "id": "E8cCCFviOKuF",
        "outputId": "c6eebdfa-f576-4106-ec4b-38cba2572df0"
      },
      "source": [
        "network.fit(X_train,Y_train,epochs=100,validation_split=0.2)"
      ],
      "execution_count": null,
      "outputs": [
        {
          "output_type": "stream",
          "text": [
            "Epoch 1/100\n",
            "13/13 [==============================] - 1s 39ms/step - loss: 1.1613 - mae: 0.8950 - val_loss: 0.9223 - val_mae: 0.7903\n",
            "Epoch 2/100\n",
            "13/13 [==============================] - 0s 5ms/step - loss: 1.0773 - mae: 0.8586 - val_loss: 0.8943 - val_mae: 0.7770\n",
            "Epoch 3/100\n",
            "13/13 [==============================] - 0s 5ms/step - loss: 1.0496 - mae: 0.8459 - val_loss: 0.8639 - val_mae: 0.7622\n",
            "Epoch 4/100\n",
            "13/13 [==============================] - 0s 5ms/step - loss: 0.9603 - mae: 0.7967 - val_loss: 0.8249 - val_mae: 0.7433\n",
            "Epoch 5/100\n",
            "13/13 [==============================] - 0s 5ms/step - loss: 1.0732 - mae: 0.8455 - val_loss: 0.7823 - val_mae: 0.7220\n",
            "Epoch 6/100\n",
            "13/13 [==============================] - 0s 5ms/step - loss: 1.0091 - mae: 0.8350 - val_loss: 0.7367 - val_mae: 0.6978\n",
            "Epoch 7/100\n",
            "13/13 [==============================] - 0s 5ms/step - loss: 0.8750 - mae: 0.7582 - val_loss: 0.6904 - val_mae: 0.6708\n",
            "Epoch 8/100\n",
            "13/13 [==============================] - 0s 5ms/step - loss: 0.8828 - mae: 0.7750 - val_loss: 0.6397 - val_mae: 0.6396\n",
            "Epoch 9/100\n",
            "13/13 [==============================] - 0s 5ms/step - loss: 0.8154 - mae: 0.7496 - val_loss: 0.5945 - val_mae: 0.6113\n",
            "Epoch 10/100\n",
            "13/13 [==============================] - 0s 6ms/step - loss: 0.7895 - mae: 0.7204 - val_loss: 0.5454 - val_mae: 0.5801\n",
            "Epoch 11/100\n",
            "13/13 [==============================] - 0s 5ms/step - loss: 0.6696 - mae: 0.6742 - val_loss: 0.5010 - val_mae: 0.5536\n",
            "Epoch 12/100\n",
            "13/13 [==============================] - 0s 5ms/step - loss: 0.6932 - mae: 0.6658 - val_loss: 0.4660 - val_mae: 0.5313\n",
            "Epoch 13/100\n",
            "13/13 [==============================] - 0s 5ms/step - loss: 0.6129 - mae: 0.6319 - val_loss: 0.4340 - val_mae: 0.5095\n",
            "Epoch 14/100\n",
            "13/13 [==============================] - 0s 6ms/step - loss: 0.5401 - mae: 0.5845 - val_loss: 0.4084 - val_mae: 0.4892\n",
            "Epoch 15/100\n",
            "13/13 [==============================] - 0s 6ms/step - loss: 0.5315 - mae: 0.5855 - val_loss: 0.3874 - val_mae: 0.4721\n",
            "Epoch 16/100\n",
            "13/13 [==============================] - 0s 5ms/step - loss: 0.4995 - mae: 0.5679 - val_loss: 0.3708 - val_mae: 0.4611\n",
            "Epoch 17/100\n",
            "13/13 [==============================] - 0s 5ms/step - loss: 0.4993 - mae: 0.5682 - val_loss: 0.3578 - val_mae: 0.4556\n",
            "Epoch 18/100\n",
            "13/13 [==============================] - 0s 5ms/step - loss: 0.4562 - mae: 0.5459 - val_loss: 0.3475 - val_mae: 0.4512\n",
            "Epoch 19/100\n",
            "13/13 [==============================] - 0s 5ms/step - loss: 0.4098 - mae: 0.5147 - val_loss: 0.3391 - val_mae: 0.4476\n",
            "Epoch 20/100\n",
            "13/13 [==============================] - 0s 6ms/step - loss: 0.4047 - mae: 0.5077 - val_loss: 0.3333 - val_mae: 0.4447\n",
            "Epoch 21/100\n",
            "13/13 [==============================] - 0s 5ms/step - loss: 0.4147 - mae: 0.5074 - val_loss: 0.3263 - val_mae: 0.4412\n",
            "Epoch 22/100\n",
            "13/13 [==============================] - 0s 5ms/step - loss: 0.4083 - mae: 0.5053 - val_loss: 0.3230 - val_mae: 0.4397\n",
            "Epoch 23/100\n",
            "13/13 [==============================] - 0s 5ms/step - loss: 0.4097 - mae: 0.5092 - val_loss: 0.3178 - val_mae: 0.4371\n",
            "Epoch 24/100\n",
            "13/13 [==============================] - 0s 5ms/step - loss: 0.4163 - mae: 0.5066 - val_loss: 0.3144 - val_mae: 0.4352\n",
            "Epoch 25/100\n",
            "13/13 [==============================] - 0s 5ms/step - loss: 0.4193 - mae: 0.5142 - val_loss: 0.3092 - val_mae: 0.4324\n",
            "Epoch 26/100\n",
            "13/13 [==============================] - 0s 5ms/step - loss: 0.4051 - mae: 0.4886 - val_loss: 0.3055 - val_mae: 0.4306\n",
            "Epoch 27/100\n",
            "13/13 [==============================] - 0s 5ms/step - loss: 0.3439 - mae: 0.4559 - val_loss: 0.3018 - val_mae: 0.4287\n",
            "Epoch 28/100\n",
            "13/13 [==============================] - 0s 6ms/step - loss: 0.3619 - mae: 0.4725 - val_loss: 0.2971 - val_mae: 0.4259\n",
            "Epoch 29/100\n",
            "13/13 [==============================] - 0s 5ms/step - loss: 0.3252 - mae: 0.4407 - val_loss: 0.2930 - val_mae: 0.4229\n",
            "Epoch 30/100\n",
            "13/13 [==============================] - 0s 5ms/step - loss: 0.3402 - mae: 0.4477 - val_loss: 0.2880 - val_mae: 0.4193\n",
            "Epoch 31/100\n",
            "13/13 [==============================] - 0s 5ms/step - loss: 0.2934 - mae: 0.4152 - val_loss: 0.2815 - val_mae: 0.4151\n",
            "Epoch 32/100\n",
            "13/13 [==============================] - 0s 5ms/step - loss: 0.2928 - mae: 0.4154 - val_loss: 0.2760 - val_mae: 0.4113\n",
            "Epoch 33/100\n",
            "13/13 [==============================] - 0s 6ms/step - loss: 0.2832 - mae: 0.4152 - val_loss: 0.2713 - val_mae: 0.4084\n",
            "Epoch 34/100\n",
            "13/13 [==============================] - 0s 5ms/step - loss: 0.2921 - mae: 0.4224 - val_loss: 0.2643 - val_mae: 0.4040\n",
            "Epoch 35/100\n",
            "13/13 [==============================] - 0s 5ms/step - loss: 0.3102 - mae: 0.4351 - val_loss: 0.2600 - val_mae: 0.4020\n",
            "Epoch 36/100\n",
            "13/13 [==============================] - 0s 6ms/step - loss: 0.2911 - mae: 0.4166 - val_loss: 0.2548 - val_mae: 0.3977\n",
            "Epoch 37/100\n",
            "13/13 [==============================] - 0s 5ms/step - loss: 0.2837 - mae: 0.4204 - val_loss: 0.2489 - val_mae: 0.3925\n",
            "Epoch 38/100\n",
            "13/13 [==============================] - 0s 6ms/step - loss: 0.2843 - mae: 0.4096 - val_loss: 0.2450 - val_mae: 0.3913\n",
            "Epoch 39/100\n",
            "13/13 [==============================] - 0s 7ms/step - loss: 0.2836 - mae: 0.4100 - val_loss: 0.2417 - val_mae: 0.3886\n",
            "Epoch 40/100\n",
            "13/13 [==============================] - 0s 6ms/step - loss: 0.2863 - mae: 0.4107 - val_loss: 0.2370 - val_mae: 0.3850\n",
            "Epoch 41/100\n",
            "13/13 [==============================] - 0s 6ms/step - loss: 0.2824 - mae: 0.4087 - val_loss: 0.2331 - val_mae: 0.3822\n",
            "Epoch 42/100\n",
            "13/13 [==============================] - 0s 6ms/step - loss: 0.2607 - mae: 0.3930 - val_loss: 0.2294 - val_mae: 0.3775\n",
            "Epoch 43/100\n",
            "13/13 [==============================] - 0s 5ms/step - loss: 0.2479 - mae: 0.3875 - val_loss: 0.2256 - val_mae: 0.3727\n",
            "Epoch 44/100\n",
            "13/13 [==============================] - 0s 5ms/step - loss: 0.2408 - mae: 0.3806 - val_loss: 0.2238 - val_mae: 0.3710\n",
            "Epoch 45/100\n",
            "13/13 [==============================] - 0s 5ms/step - loss: 0.2471 - mae: 0.3784 - val_loss: 0.2224 - val_mae: 0.3689\n",
            "Epoch 46/100\n",
            "13/13 [==============================] - 0s 5ms/step - loss: 0.2545 - mae: 0.3847 - val_loss: 0.2192 - val_mae: 0.3669\n",
            "Epoch 47/100\n",
            "13/13 [==============================] - 0s 5ms/step - loss: 0.2318 - mae: 0.3681 - val_loss: 0.2160 - val_mae: 0.3653\n",
            "Epoch 48/100\n",
            "13/13 [==============================] - 0s 5ms/step - loss: 0.2413 - mae: 0.3815 - val_loss: 0.2150 - val_mae: 0.3628\n",
            "Epoch 49/100\n",
            "13/13 [==============================] - 0s 6ms/step - loss: 0.2383 - mae: 0.3827 - val_loss: 0.2130 - val_mae: 0.3602\n",
            "Epoch 50/100\n",
            "13/13 [==============================] - 0s 5ms/step - loss: 0.2194 - mae: 0.3617 - val_loss: 0.2137 - val_mae: 0.3580\n",
            "Epoch 51/100\n",
            "13/13 [==============================] - 0s 5ms/step - loss: 0.2274 - mae: 0.3707 - val_loss: 0.2126 - val_mae: 0.3553\n",
            "Epoch 52/100\n",
            "13/13 [==============================] - 0s 5ms/step - loss: 0.2369 - mae: 0.3826 - val_loss: 0.2099 - val_mae: 0.3532\n",
            "Epoch 53/100\n",
            "13/13 [==============================] - 0s 5ms/step - loss: 0.2090 - mae: 0.3520 - val_loss: 0.2096 - val_mae: 0.3517\n",
            "Epoch 54/100\n",
            "13/13 [==============================] - 0s 5ms/step - loss: 0.2237 - mae: 0.3563 - val_loss: 0.2064 - val_mae: 0.3500\n",
            "Epoch 55/100\n",
            "13/13 [==============================] - 0s 6ms/step - loss: 0.2147 - mae: 0.3527 - val_loss: 0.2062 - val_mae: 0.3473\n",
            "Epoch 56/100\n",
            "13/13 [==============================] - 0s 5ms/step - loss: 0.2152 - mae: 0.3629 - val_loss: 0.2041 - val_mae: 0.3462\n",
            "Epoch 57/100\n",
            "13/13 [==============================] - 0s 6ms/step - loss: 0.2138 - mae: 0.3621 - val_loss: 0.1995 - val_mae: 0.3439\n",
            "Epoch 58/100\n",
            "13/13 [==============================] - 0s 5ms/step - loss: 0.2268 - mae: 0.3636 - val_loss: 0.2013 - val_mae: 0.3425\n",
            "Epoch 59/100\n",
            "13/13 [==============================] - 0s 5ms/step - loss: 0.2015 - mae: 0.3389 - val_loss: 0.1989 - val_mae: 0.3410\n",
            "Epoch 60/100\n",
            "13/13 [==============================] - 0s 5ms/step - loss: 0.1946 - mae: 0.3374 - val_loss: 0.2007 - val_mae: 0.3401\n",
            "Epoch 61/100\n",
            "13/13 [==============================] - 0s 5ms/step - loss: 0.2124 - mae: 0.3599 - val_loss: 0.1966 - val_mae: 0.3387\n",
            "Epoch 62/100\n",
            "13/13 [==============================] - 0s 5ms/step - loss: 0.2018 - mae: 0.3485 - val_loss: 0.1952 - val_mae: 0.3385\n",
            "Epoch 63/100\n",
            "13/13 [==============================] - 0s 6ms/step - loss: 0.2042 - mae: 0.3459 - val_loss: 0.1961 - val_mae: 0.3376\n",
            "Epoch 64/100\n",
            "13/13 [==============================] - 0s 5ms/step - loss: 0.1986 - mae: 0.3407 - val_loss: 0.1942 - val_mae: 0.3363\n",
            "Epoch 65/100\n",
            "13/13 [==============================] - 0s 5ms/step - loss: 0.2125 - mae: 0.3599 - val_loss: 0.1917 - val_mae: 0.3354\n",
            "Epoch 66/100\n",
            "13/13 [==============================] - 0s 6ms/step - loss: 0.1846 - mae: 0.3304 - val_loss: 0.1932 - val_mae: 0.3344\n",
            "Epoch 67/100\n",
            "13/13 [==============================] - 0s 6ms/step - loss: 0.1975 - mae: 0.3352 - val_loss: 0.1977 - val_mae: 0.3335\n",
            "Epoch 68/100\n",
            "13/13 [==============================] - 0s 5ms/step - loss: 0.1872 - mae: 0.3326 - val_loss: 0.1941 - val_mae: 0.3339\n",
            "Epoch 69/100\n",
            "13/13 [==============================] - 0s 6ms/step - loss: 0.2037 - mae: 0.3438 - val_loss: 0.1939 - val_mae: 0.3343\n",
            "Epoch 70/100\n",
            "13/13 [==============================] - 0s 5ms/step - loss: 0.2039 - mae: 0.3423 - val_loss: 0.1950 - val_mae: 0.3345\n",
            "Epoch 71/100\n",
            "13/13 [==============================] - 0s 5ms/step - loss: 0.1772 - mae: 0.3194 - val_loss: 0.1955 - val_mae: 0.3324\n",
            "Epoch 72/100\n",
            "13/13 [==============================] - 0s 6ms/step - loss: 0.1750 - mae: 0.3147 - val_loss: 0.1924 - val_mae: 0.3329\n",
            "Epoch 73/100\n",
            "13/13 [==============================] - 0s 5ms/step - loss: 0.1718 - mae: 0.3181 - val_loss: 0.1943 - val_mae: 0.3332\n",
            "Epoch 74/100\n",
            "13/13 [==============================] - 0s 5ms/step - loss: 0.1777 - mae: 0.3179 - val_loss: 0.1951 - val_mae: 0.3331\n",
            "Epoch 75/100\n",
            "13/13 [==============================] - 0s 5ms/step - loss: 0.1925 - mae: 0.3367 - val_loss: 0.1913 - val_mae: 0.3325\n",
            "Epoch 76/100\n",
            "13/13 [==============================] - 0s 5ms/step - loss: 0.1790 - mae: 0.3194 - val_loss: 0.1929 - val_mae: 0.3314\n",
            "Epoch 77/100\n",
            "13/13 [==============================] - 0s 6ms/step - loss: 0.1868 - mae: 0.3303 - val_loss: 0.1895 - val_mae: 0.3285\n",
            "Epoch 78/100\n",
            "13/13 [==============================] - 0s 5ms/step - loss: 0.1740 - mae: 0.3085 - val_loss: 0.1940 - val_mae: 0.3315\n",
            "Epoch 79/100\n",
            "13/13 [==============================] - 0s 5ms/step - loss: 0.1590 - mae: 0.2969 - val_loss: 0.1890 - val_mae: 0.3292\n",
            "Epoch 80/100\n",
            "13/13 [==============================] - 0s 5ms/step - loss: 0.1756 - mae: 0.3078 - val_loss: 0.1912 - val_mae: 0.3287\n",
            "Epoch 81/100\n",
            "13/13 [==============================] - 0s 5ms/step - loss: 0.1998 - mae: 0.3391 - val_loss: 0.1901 - val_mae: 0.3291\n",
            "Epoch 82/100\n",
            "13/13 [==============================] - 0s 6ms/step - loss: 0.1666 - mae: 0.3047 - val_loss: 0.1923 - val_mae: 0.3304\n",
            "Epoch 83/100\n",
            "13/13 [==============================] - 0s 6ms/step - loss: 0.1643 - mae: 0.3049 - val_loss: 0.1926 - val_mae: 0.3295\n",
            "Epoch 84/100\n",
            "13/13 [==============================] - 0s 5ms/step - loss: 0.1717 - mae: 0.3105 - val_loss: 0.1910 - val_mae: 0.3283\n",
            "Epoch 85/100\n",
            "13/13 [==============================] - 0s 5ms/step - loss: 0.1819 - mae: 0.3199 - val_loss: 0.1914 - val_mae: 0.3275\n",
            "Epoch 86/100\n",
            "13/13 [==============================] - 0s 5ms/step - loss: 0.1786 - mae: 0.3229 - val_loss: 0.1862 - val_mae: 0.3279\n",
            "Epoch 87/100\n",
            "13/13 [==============================] - 0s 5ms/step - loss: 0.1791 - mae: 0.3145 - val_loss: 0.1883 - val_mae: 0.3274\n",
            "Epoch 88/100\n",
            "13/13 [==============================] - 0s 5ms/step - loss: 0.1488 - mae: 0.2809 - val_loss: 0.1882 - val_mae: 0.3275\n",
            "Epoch 89/100\n",
            "13/13 [==============================] - 0s 5ms/step - loss: 0.1494 - mae: 0.2831 - val_loss: 0.1885 - val_mae: 0.3271\n",
            "Epoch 90/100\n",
            "13/13 [==============================] - 0s 5ms/step - loss: 0.1559 - mae: 0.2964 - val_loss: 0.1926 - val_mae: 0.3292\n",
            "Epoch 91/100\n",
            "13/13 [==============================] - 0s 5ms/step - loss: 0.1571 - mae: 0.2976 - val_loss: 0.1888 - val_mae: 0.3293\n",
            "Epoch 92/100\n",
            "13/13 [==============================] - 0s 5ms/step - loss: 0.1593 - mae: 0.2942 - val_loss: 0.1912 - val_mae: 0.3287\n",
            "Epoch 93/100\n",
            "13/13 [==============================] - 0s 6ms/step - loss: 0.1726 - mae: 0.3116 - val_loss: 0.1916 - val_mae: 0.3292\n",
            "Epoch 94/100\n",
            "13/13 [==============================] - 0s 5ms/step - loss: 0.1481 - mae: 0.2864 - val_loss: 0.1983 - val_mae: 0.3319\n",
            "Epoch 95/100\n",
            "13/13 [==============================] - 0s 5ms/step - loss: 0.1484 - mae: 0.2924 - val_loss: 0.1982 - val_mae: 0.3324\n",
            "Epoch 96/100\n",
            "13/13 [==============================] - 0s 6ms/step - loss: 0.1333 - mae: 0.2759 - val_loss: 0.1949 - val_mae: 0.3313\n",
            "Epoch 97/100\n",
            "13/13 [==============================] - 0s 6ms/step - loss: 0.1537 - mae: 0.2956 - val_loss: 0.1924 - val_mae: 0.3308\n",
            "Epoch 98/100\n",
            "13/13 [==============================] - 0s 6ms/step - loss: 0.1604 - mae: 0.3006 - val_loss: 0.1920 - val_mae: 0.3307\n",
            "Epoch 99/100\n",
            "13/13 [==============================] - 0s 5ms/step - loss: 0.1444 - mae: 0.2863 - val_loss: 0.1971 - val_mae: 0.3322\n",
            "Epoch 100/100\n",
            "13/13 [==============================] - 0s 5ms/step - loss: 0.1435 - mae: 0.2867 - val_loss: 0.1951 - val_mae: 0.3315\n"
          ],
          "name": "stdout"
        },
        {
          "output_type": "execute_result",
          "data": {
            "text/plain": [
              "<tensorflow.python.keras.callbacks.History at 0x7f0f1a1041d0>"
            ]
          },
          "metadata": {
            "tags": []
          },
          "execution_count": 35
        }
      ]
    },
    {
      "cell_type": "code",
      "metadata": {
        "colab": {
          "base_uri": "https://localhost:8080/"
        },
        "id": "Dke-NeOQtJ7Z",
        "outputId": "c747742c-a35c-489d-910c-49aec973df25"
      },
      "source": [
        "loss,mae=network.evaluate(X_test,Y_test)"
      ],
      "execution_count": null,
      "outputs": [
        {
          "output_type": "stream",
          "text": [
            "17/17 [==============================] - 0s 1ms/step - loss: 0.2021 - mae: 0.3220\n"
          ],
          "name": "stdout"
        }
      ]
    },
    {
      "cell_type": "code",
      "metadata": {
        "colab": {
          "base_uri": "https://localhost:8080/"
        },
        "id": "CtycpTWetRiZ",
        "outputId": "c3c53923-6128-448f-a0ac-68b30a6eabaa"
      },
      "source": [
        "loss"
      ],
      "execution_count": null,
      "outputs": [
        {
          "output_type": "execute_result",
          "data": {
            "text/plain": [
              "0.20206531882286072"
            ]
          },
          "metadata": {
            "tags": []
          },
          "execution_count": 38
        }
      ]
    },
    {
      "cell_type": "code",
      "metadata": {
        "id": "AiZJuEX1tXIa"
      },
      "source": [
        ""
      ],
      "execution_count": null,
      "outputs": []
    }
  ]
}