{
  "nbformat": 4,
  "nbformat_minor": 0,
  "metadata": {
    "colab": {
      "name": "Concrete.ipynb",
      "provenance": [],
      "collapsed_sections": []
    },
    "kernelspec": {
      "name": "python3",
      "display_name": "Python 3"
    },
    "language_info": {
      "name": "python"
    },
    "accelerator": "TPU"
  },
  "cells": [
    {
      "cell_type": "markdown",
      "metadata": {
        "id": "CgPkafcBClHA"
      },
      "source": [
        "#Importing Libraries"
      ]
    },
    {
      "cell_type": "code",
      "metadata": {
        "id": "NipDpuvkCmi6"
      },
      "source": [
        "import pandas as pd\n",
        "import numpy as np\n",
        "import matplotlib.pyplot as plt\n",
        "from google.colab import drive"
      ],
      "execution_count": 2,
      "outputs": []
    },
    {
      "cell_type": "markdown",
      "metadata": {
        "id": "UxC9ci-KDQoW"
      },
      "source": [
        "#Uploading Datasets"
      ]
    },
    {
      "cell_type": "code",
      "metadata": {
        "colab": {
          "base_uri": "https://localhost:8080/"
        },
        "id": "SoTTnz-egHg8",
        "outputId": "aa97731c-f656-4c85-c048-d3008e2f0d6a"
      },
      "source": [
        "drive.mount(\"datasets\")"
      ],
      "execution_count": 72,
      "outputs": [
        {
          "output_type": "stream",
          "text": [
            "Drive already mounted at datasets; to attempt to forcibly remount, call drive.mount(\"datasets\", force_remount=True).\n"
          ],
          "name": "stdout"
        }
      ]
    },
    {
      "cell_type": "code",
      "metadata": {
        "id": "B_vpinNiCxTc"
      },
      "source": [
        "data=pd.read_csv(\"/content/datasets/MyDrive/PIAIC datasets/compresive_strength_concrete.csv\")"
      ],
      "execution_count": 73,
      "outputs": []
    },
    {
      "cell_type": "code",
      "metadata": {
        "colab": {
          "base_uri": "https://localhost:8080/"
        },
        "id": "VcJwnsAHIgRW",
        "outputId": "12d49847-4e68-429d-de44-954969aefc0d"
      },
      "source": [
        "data.shape"
      ],
      "execution_count": 74,
      "outputs": [
        {
          "output_type": "execute_result",
          "data": {
            "text/plain": [
              "(1030, 9)"
            ]
          },
          "metadata": {
            "tags": []
          },
          "execution_count": 74
        }
      ]
    },
    {
      "cell_type": "code",
      "metadata": {
        "colab": {
          "base_uri": "https://localhost:8080/",
          "height": 255
        },
        "id": "U0yFP1M6Ikh-",
        "outputId": "9127bd04-b98c-4c5b-a8e5-9bbb6d29d2af"
      },
      "source": [
        "data.head()"
      ],
      "execution_count": 75,
      "outputs": [
        {
          "output_type": "execute_result",
          "data": {
            "text/html": [
              "<div>\n",
              "<style scoped>\n",
              "    .dataframe tbody tr th:only-of-type {\n",
              "        vertical-align: middle;\n",
              "    }\n",
              "\n",
              "    .dataframe tbody tr th {\n",
              "        vertical-align: top;\n",
              "    }\n",
              "\n",
              "    .dataframe thead th {\n",
              "        text-align: right;\n",
              "    }\n",
              "</style>\n",
              "<table border=\"1\" class=\"dataframe\">\n",
              "  <thead>\n",
              "    <tr style=\"text-align: right;\">\n",
              "      <th></th>\n",
              "      <th>Cement (component 1)(kg in a m^3 mixture)</th>\n",
              "      <th>Blast Furnace Slag (component 2)(kg in a m^3 mixture)</th>\n",
              "      <th>Fly Ash (component 3)(kg in a m^3 mixture)</th>\n",
              "      <th>Water  (component 4)(kg in a m^3 mixture)</th>\n",
              "      <th>Superplasticizer (component 5)(kg in a m^3 mixture)</th>\n",
              "      <th>Coarse Aggregate  (component 6)(kg in a m^3 mixture)</th>\n",
              "      <th>Fine Aggregate (component 7)(kg in a m^3 mixture)</th>\n",
              "      <th>Age (day)</th>\n",
              "      <th>Concrete compressive strength(MPa, megapascals)</th>\n",
              "    </tr>\n",
              "  </thead>\n",
              "  <tbody>\n",
              "    <tr>\n",
              "      <th>0</th>\n",
              "      <td>540.0</td>\n",
              "      <td>0.0</td>\n",
              "      <td>0.0</td>\n",
              "      <td>162.0</td>\n",
              "      <td>2.5</td>\n",
              "      <td>1040.0</td>\n",
              "      <td>676.0</td>\n",
              "      <td>28</td>\n",
              "      <td>79.99</td>\n",
              "    </tr>\n",
              "    <tr>\n",
              "      <th>1</th>\n",
              "      <td>540.0</td>\n",
              "      <td>0.0</td>\n",
              "      <td>0.0</td>\n",
              "      <td>162.0</td>\n",
              "      <td>2.5</td>\n",
              "      <td>1055.0</td>\n",
              "      <td>676.0</td>\n",
              "      <td>28</td>\n",
              "      <td>61.89</td>\n",
              "    </tr>\n",
              "    <tr>\n",
              "      <th>2</th>\n",
              "      <td>332.5</td>\n",
              "      <td>142.5</td>\n",
              "      <td>0.0</td>\n",
              "      <td>228.0</td>\n",
              "      <td>0.0</td>\n",
              "      <td>932.0</td>\n",
              "      <td>594.0</td>\n",
              "      <td>270</td>\n",
              "      <td>40.27</td>\n",
              "    </tr>\n",
              "    <tr>\n",
              "      <th>3</th>\n",
              "      <td>332.5</td>\n",
              "      <td>142.5</td>\n",
              "      <td>0.0</td>\n",
              "      <td>228.0</td>\n",
              "      <td>0.0</td>\n",
              "      <td>932.0</td>\n",
              "      <td>594.0</td>\n",
              "      <td>365</td>\n",
              "      <td>41.05</td>\n",
              "    </tr>\n",
              "    <tr>\n",
              "      <th>4</th>\n",
              "      <td>198.6</td>\n",
              "      <td>132.4</td>\n",
              "      <td>0.0</td>\n",
              "      <td>192.0</td>\n",
              "      <td>0.0</td>\n",
              "      <td>978.4</td>\n",
              "      <td>825.5</td>\n",
              "      <td>360</td>\n",
              "      <td>44.30</td>\n",
              "    </tr>\n",
              "  </tbody>\n",
              "</table>\n",
              "</div>"
            ],
            "text/plain": [
              "   Cement (component 1)(kg in a m^3 mixture)  ...  Concrete compressive strength(MPa, megapascals) \n",
              "0                                      540.0  ...                                             79.99\n",
              "1                                      540.0  ...                                             61.89\n",
              "2                                      332.5  ...                                             40.27\n",
              "3                                      332.5  ...                                             41.05\n",
              "4                                      198.6  ...                                             44.30\n",
              "\n",
              "[5 rows x 9 columns]"
            ]
          },
          "metadata": {
            "tags": []
          },
          "execution_count": 75
        }
      ]
    },
    {
      "cell_type": "markdown",
      "metadata": {
        "id": "jJf_osgNindp"
      },
      "source": [
        "#Standardization"
      ]
    },
    {
      "cell_type": "code",
      "metadata": {
        "colab": {
          "base_uri": "https://localhost:8080/",
          "height": 255
        },
        "id": "RLbDQ72Fiqof",
        "outputId": "6e7c9187-7ba7-474c-a79f-b310fb2d8d56"
      },
      "source": [
        "from sklearn.preprocessing import MinMaxScaler\n",
        "scaler=MinMaxScaler()\n",
        "scaler.fit(data)\n",
        "Data=scaler.transform(data)\n",
        "Data=pd.DataFrame(Data,columns=list(data.columns))\n",
        "Data.head()"
      ],
      "execution_count": 76,
      "outputs": [
        {
          "output_type": "execute_result",
          "data": {
            "text/html": [
              "<div>\n",
              "<style scoped>\n",
              "    .dataframe tbody tr th:only-of-type {\n",
              "        vertical-align: middle;\n",
              "    }\n",
              "\n",
              "    .dataframe tbody tr th {\n",
              "        vertical-align: top;\n",
              "    }\n",
              "\n",
              "    .dataframe thead th {\n",
              "        text-align: right;\n",
              "    }\n",
              "</style>\n",
              "<table border=\"1\" class=\"dataframe\">\n",
              "  <thead>\n",
              "    <tr style=\"text-align: right;\">\n",
              "      <th></th>\n",
              "      <th>Cement (component 1)(kg in a m^3 mixture)</th>\n",
              "      <th>Blast Furnace Slag (component 2)(kg in a m^3 mixture)</th>\n",
              "      <th>Fly Ash (component 3)(kg in a m^3 mixture)</th>\n",
              "      <th>Water  (component 4)(kg in a m^3 mixture)</th>\n",
              "      <th>Superplasticizer (component 5)(kg in a m^3 mixture)</th>\n",
              "      <th>Coarse Aggregate  (component 6)(kg in a m^3 mixture)</th>\n",
              "      <th>Fine Aggregate (component 7)(kg in a m^3 mixture)</th>\n",
              "      <th>Age (day)</th>\n",
              "      <th>Concrete compressive strength(MPa, megapascals)</th>\n",
              "    </tr>\n",
              "  </thead>\n",
              "  <tbody>\n",
              "    <tr>\n",
              "      <th>0</th>\n",
              "      <td>1.000000</td>\n",
              "      <td>0.000000</td>\n",
              "      <td>0.0</td>\n",
              "      <td>0.321086</td>\n",
              "      <td>0.07764</td>\n",
              "      <td>0.694767</td>\n",
              "      <td>0.205720</td>\n",
              "      <td>0.074176</td>\n",
              "      <td>0.967485</td>\n",
              "    </tr>\n",
              "    <tr>\n",
              "      <th>1</th>\n",
              "      <td>1.000000</td>\n",
              "      <td>0.000000</td>\n",
              "      <td>0.0</td>\n",
              "      <td>0.321086</td>\n",
              "      <td>0.07764</td>\n",
              "      <td>0.738372</td>\n",
              "      <td>0.205720</td>\n",
              "      <td>0.074176</td>\n",
              "      <td>0.741996</td>\n",
              "    </tr>\n",
              "    <tr>\n",
              "      <th>2</th>\n",
              "      <td>0.526256</td>\n",
              "      <td>0.396494</td>\n",
              "      <td>0.0</td>\n",
              "      <td>0.848243</td>\n",
              "      <td>0.00000</td>\n",
              "      <td>0.380814</td>\n",
              "      <td>0.000000</td>\n",
              "      <td>0.739011</td>\n",
              "      <td>0.472655</td>\n",
              "    </tr>\n",
              "    <tr>\n",
              "      <th>3</th>\n",
              "      <td>0.526256</td>\n",
              "      <td>0.396494</td>\n",
              "      <td>0.0</td>\n",
              "      <td>0.848243</td>\n",
              "      <td>0.00000</td>\n",
              "      <td>0.380814</td>\n",
              "      <td>0.000000</td>\n",
              "      <td>1.000000</td>\n",
              "      <td>0.482372</td>\n",
              "    </tr>\n",
              "    <tr>\n",
              "      <th>4</th>\n",
              "      <td>0.220548</td>\n",
              "      <td>0.368392</td>\n",
              "      <td>0.0</td>\n",
              "      <td>0.560703</td>\n",
              "      <td>0.00000</td>\n",
              "      <td>0.515698</td>\n",
              "      <td>0.580783</td>\n",
              "      <td>0.986264</td>\n",
              "      <td>0.522860</td>\n",
              "    </tr>\n",
              "  </tbody>\n",
              "</table>\n",
              "</div>"
            ],
            "text/plain": [
              "   Cement (component 1)(kg in a m^3 mixture)  ...  Concrete compressive strength(MPa, megapascals) \n",
              "0                                   1.000000  ...                                          0.967485\n",
              "1                                   1.000000  ...                                          0.741996\n",
              "2                                   0.526256  ...                                          0.472655\n",
              "3                                   0.526256  ...                                          0.482372\n",
              "4                                   0.220548  ...                                          0.522860\n",
              "\n",
              "[5 rows x 9 columns]"
            ]
          },
          "metadata": {
            "tags": []
          },
          "execution_count": 76
        }
      ]
    },
    {
      "cell_type": "markdown",
      "metadata": {
        "id": "CcvbbUpmJFCi"
      },
      "source": [
        "#Selecting features and target feature"
      ]
    },
    {
      "cell_type": "code",
      "metadata": {
        "id": "OTv_VabYIj83"
      },
      "source": [
        "X = Data.drop(columns=Data.columns[8])"
      ],
      "execution_count": 77,
      "outputs": []
    },
    {
      "cell_type": "code",
      "metadata": {
        "colab": {
          "base_uri": "https://localhost:8080/",
          "height": 470
        },
        "id": "qhKSzLhAIy3o",
        "outputId": "c5e23247-b680-4180-8011-e72f9830f89f"
      },
      "source": [
        "X"
      ],
      "execution_count": 78,
      "outputs": [
        {
          "output_type": "execute_result",
          "data": {
            "text/html": [
              "<div>\n",
              "<style scoped>\n",
              "    .dataframe tbody tr th:only-of-type {\n",
              "        vertical-align: middle;\n",
              "    }\n",
              "\n",
              "    .dataframe tbody tr th {\n",
              "        vertical-align: top;\n",
              "    }\n",
              "\n",
              "    .dataframe thead th {\n",
              "        text-align: right;\n",
              "    }\n",
              "</style>\n",
              "<table border=\"1\" class=\"dataframe\">\n",
              "  <thead>\n",
              "    <tr style=\"text-align: right;\">\n",
              "      <th></th>\n",
              "      <th>Cement (component 1)(kg in a m^3 mixture)</th>\n",
              "      <th>Blast Furnace Slag (component 2)(kg in a m^3 mixture)</th>\n",
              "      <th>Fly Ash (component 3)(kg in a m^3 mixture)</th>\n",
              "      <th>Water  (component 4)(kg in a m^3 mixture)</th>\n",
              "      <th>Superplasticizer (component 5)(kg in a m^3 mixture)</th>\n",
              "      <th>Coarse Aggregate  (component 6)(kg in a m^3 mixture)</th>\n",
              "      <th>Fine Aggregate (component 7)(kg in a m^3 mixture)</th>\n",
              "      <th>Age (day)</th>\n",
              "    </tr>\n",
              "  </thead>\n",
              "  <tbody>\n",
              "    <tr>\n",
              "      <th>0</th>\n",
              "      <td>1.000000</td>\n",
              "      <td>0.000000</td>\n",
              "      <td>0.000000</td>\n",
              "      <td>0.321086</td>\n",
              "      <td>0.077640</td>\n",
              "      <td>0.694767</td>\n",
              "      <td>0.205720</td>\n",
              "      <td>0.074176</td>\n",
              "    </tr>\n",
              "    <tr>\n",
              "      <th>1</th>\n",
              "      <td>1.000000</td>\n",
              "      <td>0.000000</td>\n",
              "      <td>0.000000</td>\n",
              "      <td>0.321086</td>\n",
              "      <td>0.077640</td>\n",
              "      <td>0.738372</td>\n",
              "      <td>0.205720</td>\n",
              "      <td>0.074176</td>\n",
              "    </tr>\n",
              "    <tr>\n",
              "      <th>2</th>\n",
              "      <td>0.526256</td>\n",
              "      <td>0.396494</td>\n",
              "      <td>0.000000</td>\n",
              "      <td>0.848243</td>\n",
              "      <td>0.000000</td>\n",
              "      <td>0.380814</td>\n",
              "      <td>0.000000</td>\n",
              "      <td>0.739011</td>\n",
              "    </tr>\n",
              "    <tr>\n",
              "      <th>3</th>\n",
              "      <td>0.526256</td>\n",
              "      <td>0.396494</td>\n",
              "      <td>0.000000</td>\n",
              "      <td>0.848243</td>\n",
              "      <td>0.000000</td>\n",
              "      <td>0.380814</td>\n",
              "      <td>0.000000</td>\n",
              "      <td>1.000000</td>\n",
              "    </tr>\n",
              "    <tr>\n",
              "      <th>4</th>\n",
              "      <td>0.220548</td>\n",
              "      <td>0.368392</td>\n",
              "      <td>0.000000</td>\n",
              "      <td>0.560703</td>\n",
              "      <td>0.000000</td>\n",
              "      <td>0.515698</td>\n",
              "      <td>0.580783</td>\n",
              "      <td>0.986264</td>\n",
              "    </tr>\n",
              "    <tr>\n",
              "      <th>...</th>\n",
              "      <td>...</td>\n",
              "      <td>...</td>\n",
              "      <td>...</td>\n",
              "      <td>...</td>\n",
              "      <td>...</td>\n",
              "      <td>...</td>\n",
              "      <td>...</td>\n",
              "      <td>...</td>\n",
              "    </tr>\n",
              "    <tr>\n",
              "      <th>1025</th>\n",
              "      <td>0.398174</td>\n",
              "      <td>0.322760</td>\n",
              "      <td>0.451274</td>\n",
              "      <td>0.461661</td>\n",
              "      <td>0.276398</td>\n",
              "      <td>0.200872</td>\n",
              "      <td>0.437280</td>\n",
              "      <td>0.074176</td>\n",
              "    </tr>\n",
              "    <tr>\n",
              "      <th>1026</th>\n",
              "      <td>0.502740</td>\n",
              "      <td>0.000000</td>\n",
              "      <td>0.577711</td>\n",
              "      <td>0.592652</td>\n",
              "      <td>0.322981</td>\n",
              "      <td>0.049128</td>\n",
              "      <td>0.550426</td>\n",
              "      <td>0.074176</td>\n",
              "    </tr>\n",
              "    <tr>\n",
              "      <th>1027</th>\n",
              "      <td>0.106164</td>\n",
              "      <td>0.387869</td>\n",
              "      <td>0.542729</td>\n",
              "      <td>0.566294</td>\n",
              "      <td>0.189441</td>\n",
              "      <td>0.265698</td>\n",
              "      <td>0.466633</td>\n",
              "      <td>0.074176</td>\n",
              "    </tr>\n",
              "    <tr>\n",
              "      <th>1028</th>\n",
              "      <td>0.130365</td>\n",
              "      <td>0.519477</td>\n",
              "      <td>0.000000</td>\n",
              "      <td>0.429712</td>\n",
              "      <td>0.350932</td>\n",
              "      <td>0.548256</td>\n",
              "      <td>0.488961</td>\n",
              "      <td>0.074176</td>\n",
              "    </tr>\n",
              "    <tr>\n",
              "      <th>1029</th>\n",
              "      <td>0.362785</td>\n",
              "      <td>0.279633</td>\n",
              "      <td>0.391304</td>\n",
              "      <td>0.629393</td>\n",
              "      <td>0.267081</td>\n",
              "      <td>0.184593</td>\n",
              "      <td>0.420221</td>\n",
              "      <td>0.074176</td>\n",
              "    </tr>\n",
              "  </tbody>\n",
              "</table>\n",
              "<p>1030 rows × 8 columns</p>\n",
              "</div>"
            ],
            "text/plain": [
              "      Cement (component 1)(kg in a m^3 mixture)  ...  Age (day)\n",
              "0                                      1.000000  ...   0.074176\n",
              "1                                      1.000000  ...   0.074176\n",
              "2                                      0.526256  ...   0.739011\n",
              "3                                      0.526256  ...   1.000000\n",
              "4                                      0.220548  ...   0.986264\n",
              "...                                         ...  ...        ...\n",
              "1025                                   0.398174  ...   0.074176\n",
              "1026                                   0.502740  ...   0.074176\n",
              "1027                                   0.106164  ...   0.074176\n",
              "1028                                   0.130365  ...   0.074176\n",
              "1029                                   0.362785  ...   0.074176\n",
              "\n",
              "[1030 rows x 8 columns]"
            ]
          },
          "metadata": {
            "tags": []
          },
          "execution_count": 78
        }
      ]
    },
    {
      "cell_type": "code",
      "metadata": {
        "id": "KHF-Yeo2JTyg"
      },
      "source": [
        "Y=Data[Data.columns[8]]"
      ],
      "execution_count": 79,
      "outputs": []
    },
    {
      "cell_type": "code",
      "metadata": {
        "id": "MGtBbk3yLmH9"
      },
      "source": [
        "Y=pd.DataFrame(Y)"
      ],
      "execution_count": 80,
      "outputs": []
    },
    {
      "cell_type": "code",
      "metadata": {
        "colab": {
          "base_uri": "https://localhost:8080/",
          "height": 419
        },
        "id": "xIgy8qa1LoUD",
        "outputId": "67c1e3cd-bbc4-4095-8d72-8b52fedb56ba"
      },
      "source": [
        "Y"
      ],
      "execution_count": 81,
      "outputs": [
        {
          "output_type": "execute_result",
          "data": {
            "text/html": [
              "<div>\n",
              "<style scoped>\n",
              "    .dataframe tbody tr th:only-of-type {\n",
              "        vertical-align: middle;\n",
              "    }\n",
              "\n",
              "    .dataframe tbody tr th {\n",
              "        vertical-align: top;\n",
              "    }\n",
              "\n",
              "    .dataframe thead th {\n",
              "        text-align: right;\n",
              "    }\n",
              "</style>\n",
              "<table border=\"1\" class=\"dataframe\">\n",
              "  <thead>\n",
              "    <tr style=\"text-align: right;\">\n",
              "      <th></th>\n",
              "      <th>Concrete compressive strength(MPa, megapascals)</th>\n",
              "    </tr>\n",
              "  </thead>\n",
              "  <tbody>\n",
              "    <tr>\n",
              "      <th>0</th>\n",
              "      <td>0.967485</td>\n",
              "    </tr>\n",
              "    <tr>\n",
              "      <th>1</th>\n",
              "      <td>0.741996</td>\n",
              "    </tr>\n",
              "    <tr>\n",
              "      <th>2</th>\n",
              "      <td>0.472655</td>\n",
              "    </tr>\n",
              "    <tr>\n",
              "      <th>3</th>\n",
              "      <td>0.482372</td>\n",
              "    </tr>\n",
              "    <tr>\n",
              "      <th>4</th>\n",
              "      <td>0.522860</td>\n",
              "    </tr>\n",
              "    <tr>\n",
              "      <th>...</th>\n",
              "      <td>...</td>\n",
              "    </tr>\n",
              "    <tr>\n",
              "      <th>1025</th>\n",
              "      <td>0.522611</td>\n",
              "    </tr>\n",
              "    <tr>\n",
              "      <th>1026</th>\n",
              "      <td>0.359412</td>\n",
              "    </tr>\n",
              "    <tr>\n",
              "      <th>1027</th>\n",
              "      <td>0.266226</td>\n",
              "    </tr>\n",
              "    <tr>\n",
              "      <th>1028</th>\n",
              "      <td>0.379220</td>\n",
              "    </tr>\n",
              "    <tr>\n",
              "      <th>1029</th>\n",
              "      <td>0.374611</td>\n",
              "    </tr>\n",
              "  </tbody>\n",
              "</table>\n",
              "<p>1030 rows × 1 columns</p>\n",
              "</div>"
            ],
            "text/plain": [
              "      Concrete compressive strength(MPa, megapascals) \n",
              "0                                             0.967485\n",
              "1                                             0.741996\n",
              "2                                             0.472655\n",
              "3                                             0.482372\n",
              "4                                             0.522860\n",
              "...                                                ...\n",
              "1025                                          0.522611\n",
              "1026                                          0.359412\n",
              "1027                                          0.266226\n",
              "1028                                          0.379220\n",
              "1029                                          0.374611\n",
              "\n",
              "[1030 rows x 1 columns]"
            ]
          },
          "metadata": {
            "tags": []
          },
          "execution_count": 81
        }
      ]
    },
    {
      "cell_type": "markdown",
      "metadata": {
        "id": "Lj_iCk5vL5E7"
      },
      "source": [
        "#Training and testing data splittion"
      ]
    },
    {
      "cell_type": "code",
      "metadata": {
        "id": "WrX-v3pYL3HI"
      },
      "source": [
        "from sklearn.model_selection import train_test_split"
      ],
      "execution_count": 82,
      "outputs": []
    },
    {
      "cell_type": "code",
      "metadata": {
        "id": "FKo3lE-HMBY2"
      },
      "source": [
        "X_train,X_test,Y_train,Y_test=train_test_split(X,Y,train_size=0.5,shuffle=True)"
      ],
      "execution_count": 83,
      "outputs": []
    },
    {
      "cell_type": "markdown",
      "metadata": {
        "id": "_LMH3tMeMbXN"
      },
      "source": [
        "#Model selection"
      ]
    },
    {
      "cell_type": "code",
      "metadata": {
        "id": "N71E3GgCMTCO"
      },
      "source": [
        "from tensorflow.keras import layers as L\n",
        "from tensorflow.keras import models as M\n",
        "from tensorflow.keras.regularizers import L2"
      ],
      "execution_count": 93,
      "outputs": []
    },
    {
      "cell_type": "code",
      "metadata": {
        "id": "PZIj7pgIMhcg"
      },
      "source": [
        "network = M.Sequential()\n",
        "network.add(L.Dense(10,activation=\"relu\",kernel_regularizer=\"L2\",input_shape=(X_train.shape[1],)))\n",
        "network.add(L.Dense(8,activation=\"relu\"))\n",
        "network.add(L.Dense(6,activation=\"relu\"))\n",
        "network.add(L.Dense(1,activation=\"sigmoid\"))\n",
        "epoch=100\n",
        "network.compile(optimizer=\"rmsprop\",loss=[\"mse\"],metrics=[\"mae\"])"
      ],
      "execution_count": 114,
      "outputs": []
    },
    {
      "cell_type": "code",
      "metadata": {
        "id": "zSyeoyk0Nsa2",
        "colab": {
          "base_uri": "https://localhost:8080/"
        },
        "outputId": "f66cca2e-724e-4c9d-d49d-ceeb8c34d92e"
      },
      "source": [
        "history=network.fit(X_train,Y_train,epochs=epoch,validation_split=0.2)"
      ],
      "execution_count": 115,
      "outputs": [
        {
          "output_type": "stream",
          "text": [
            "Epoch 1/100\n",
            "13/13 [==============================] - 1s 19ms/step - loss: 0.1383 - mae: 0.1964 - val_loss: 0.1230 - val_mae: 0.1759\n",
            "Epoch 2/100\n",
            "13/13 [==============================] - 0s 5ms/step - loss: 0.1269 - mae: 0.1842 - val_loss: 0.1159 - val_mae: 0.1730\n",
            "Epoch 3/100\n",
            "13/13 [==============================] - 0s 4ms/step - loss: 0.1200 - mae: 0.1817 - val_loss: 0.1097 - val_mae: 0.1709\n",
            "Epoch 4/100\n",
            "13/13 [==============================] - 0s 5ms/step - loss: 0.1151 - mae: 0.1852 - val_loss: 0.1039 - val_mae: 0.1690\n",
            "Epoch 5/100\n",
            "13/13 [==============================] - 0s 5ms/step - loss: 0.1092 - mae: 0.1826 - val_loss: 0.0983 - val_mae: 0.1668\n",
            "Epoch 6/100\n",
            "13/13 [==============================] - 0s 5ms/step - loss: 0.1031 - mae: 0.1753 - val_loss: 0.0931 - val_mae: 0.1647\n",
            "Epoch 7/100\n",
            "13/13 [==============================] - 0s 5ms/step - loss: 0.0981 - mae: 0.1773 - val_loss: 0.0882 - val_mae: 0.1629\n",
            "Epoch 8/100\n",
            "13/13 [==============================] - 0s 5ms/step - loss: 0.0916 - mae: 0.1701 - val_loss: 0.0833 - val_mae: 0.1606\n",
            "Epoch 9/100\n",
            "13/13 [==============================] - 0s 5ms/step - loss: 0.0857 - mae: 0.1658 - val_loss: 0.0791 - val_mae: 0.1600\n",
            "Epoch 10/100\n",
            "13/13 [==============================] - 0s 5ms/step - loss: 0.0827 - mae: 0.1650 - val_loss: 0.0745 - val_mae: 0.1573\n",
            "Epoch 11/100\n",
            "13/13 [==============================] - 0s 4ms/step - loss: 0.0816 - mae: 0.1689 - val_loss: 0.0695 - val_mae: 0.1522\n",
            "Epoch 12/100\n",
            "13/13 [==============================] - 0s 5ms/step - loss: 0.0715 - mae: 0.1541 - val_loss: 0.0651 - val_mae: 0.1487\n",
            "Epoch 13/100\n",
            "13/13 [==============================] - 0s 5ms/step - loss: 0.0681 - mae: 0.1528 - val_loss: 0.0610 - val_mae: 0.1452\n",
            "Epoch 14/100\n",
            "13/13 [==============================] - 0s 5ms/step - loss: 0.0656 - mae: 0.1526 - val_loss: 0.0572 - val_mae: 0.1415\n",
            "Epoch 15/100\n",
            "13/13 [==============================] - 0s 5ms/step - loss: 0.0605 - mae: 0.1483 - val_loss: 0.0543 - val_mae: 0.1404\n",
            "Epoch 16/100\n",
            "13/13 [==============================] - 0s 5ms/step - loss: 0.0573 - mae: 0.1437 - val_loss: 0.0513 - val_mae: 0.1377\n",
            "Epoch 17/100\n",
            "13/13 [==============================] - 0s 5ms/step - loss: 0.0522 - mae: 0.1346 - val_loss: 0.0479 - val_mae: 0.1334\n",
            "Epoch 18/100\n",
            "13/13 [==============================] - 0s 5ms/step - loss: 0.0527 - mae: 0.1429 - val_loss: 0.0456 - val_mae: 0.1321\n",
            "Epoch 19/100\n",
            "13/13 [==============================] - 0s 5ms/step - loss: 0.0491 - mae: 0.1387 - val_loss: 0.0433 - val_mae: 0.1298\n",
            "Epoch 20/100\n",
            "13/13 [==============================] - 0s 6ms/step - loss: 0.0453 - mae: 0.1316 - val_loss: 0.0416 - val_mae: 0.1292\n",
            "Epoch 21/100\n",
            "13/13 [==============================] - 0s 6ms/step - loss: 0.0424 - mae: 0.1287 - val_loss: 0.0393 - val_mae: 0.1261\n",
            "Epoch 22/100\n",
            "13/13 [==============================] - 0s 5ms/step - loss: 0.0406 - mae: 0.1270 - val_loss: 0.0371 - val_mae: 0.1226\n",
            "Epoch 23/100\n",
            "13/13 [==============================] - 0s 5ms/step - loss: 0.0400 - mae: 0.1272 - val_loss: 0.0358 - val_mae: 0.1219\n",
            "Epoch 24/100\n",
            "13/13 [==============================] - 0s 5ms/step - loss: 0.0408 - mae: 0.1307 - val_loss: 0.0341 - val_mae: 0.1194\n",
            "Epoch 25/100\n",
            "13/13 [==============================] - 0s 5ms/step - loss: 0.0339 - mae: 0.1172 - val_loss: 0.0348 - val_mae: 0.1244\n",
            "Epoch 26/100\n",
            "13/13 [==============================] - 0s 5ms/step - loss: 0.0342 - mae: 0.1189 - val_loss: 0.0327 - val_mae: 0.1203\n",
            "Epoch 27/100\n",
            "13/13 [==============================] - 0s 5ms/step - loss: 0.0332 - mae: 0.1178 - val_loss: 0.0319 - val_mae: 0.1202\n",
            "Epoch 28/100\n",
            "13/13 [==============================] - 0s 5ms/step - loss: 0.0324 - mae: 0.1180 - val_loss: 0.0295 - val_mae: 0.1145\n",
            "Epoch 29/100\n",
            "13/13 [==============================] - 0s 5ms/step - loss: 0.0315 - mae: 0.1169 - val_loss: 0.0292 - val_mae: 0.1152\n",
            "Epoch 30/100\n",
            "13/13 [==============================] - 0s 5ms/step - loss: 0.0313 - mae: 0.1200 - val_loss: 0.0288 - val_mae: 0.1156\n",
            "Epoch 31/100\n",
            "13/13 [==============================] - 0s 5ms/step - loss: 0.0303 - mae: 0.1199 - val_loss: 0.0271 - val_mae: 0.1119\n",
            "Epoch 32/100\n",
            "13/13 [==============================] - 0s 5ms/step - loss: 0.0266 - mae: 0.1072 - val_loss: 0.0271 - val_mae: 0.1130\n",
            "Epoch 33/100\n",
            "13/13 [==============================] - 0s 5ms/step - loss: 0.0302 - mae: 0.1182 - val_loss: 0.0268 - val_mae: 0.1129\n",
            "Epoch 34/100\n",
            "13/13 [==============================] - 0s 5ms/step - loss: 0.0276 - mae: 0.1135 - val_loss: 0.0261 - val_mae: 0.1118\n",
            "Epoch 35/100\n",
            "13/13 [==============================] - 0s 5ms/step - loss: 0.0273 - mae: 0.1135 - val_loss: 0.0250 - val_mae: 0.1094\n",
            "Epoch 36/100\n",
            "13/13 [==============================] - 0s 5ms/step - loss: 0.0253 - mae: 0.1098 - val_loss: 0.0269 - val_mae: 0.1157\n",
            "Epoch 37/100\n",
            "13/13 [==============================] - 0s 5ms/step - loss: 0.0253 - mae: 0.1088 - val_loss: 0.0238 - val_mae: 0.1076\n",
            "Epoch 38/100\n",
            "13/13 [==============================] - 0s 5ms/step - loss: 0.0254 - mae: 0.1120 - val_loss: 0.0244 - val_mae: 0.1095\n",
            "Epoch 39/100\n",
            "13/13 [==============================] - 0s 5ms/step - loss: 0.0233 - mae: 0.1047 - val_loss: 0.0234 - val_mae: 0.1071\n",
            "Epoch 40/100\n",
            "13/13 [==============================] - 0s 5ms/step - loss: 0.0266 - mae: 0.1122 - val_loss: 0.0240 - val_mae: 0.1092\n",
            "Epoch 41/100\n",
            "13/13 [==============================] - 0s 5ms/step - loss: 0.0228 - mae: 0.1036 - val_loss: 0.0238 - val_mae: 0.1089\n",
            "Epoch 42/100\n",
            "13/13 [==============================] - 0s 5ms/step - loss: 0.0246 - mae: 0.1104 - val_loss: 0.0232 - val_mae: 0.1073\n",
            "Epoch 43/100\n",
            "13/13 [==============================] - 0s 5ms/step - loss: 0.0241 - mae: 0.1096 - val_loss: 0.0236 - val_mae: 0.1086\n",
            "Epoch 44/100\n",
            "13/13 [==============================] - 0s 5ms/step - loss: 0.0231 - mae: 0.1070 - val_loss: 0.0223 - val_mae: 0.1056\n",
            "Epoch 45/100\n",
            "13/13 [==============================] - 0s 5ms/step - loss: 0.0243 - mae: 0.1080 - val_loss: 0.0217 - val_mae: 0.1045\n",
            "Epoch 46/100\n",
            "13/13 [==============================] - 0s 5ms/step - loss: 0.0229 - mae: 0.1066 - val_loss: 0.0216 - val_mae: 0.1042\n",
            "Epoch 47/100\n",
            "13/13 [==============================] - 0s 5ms/step - loss: 0.0223 - mae: 0.1033 - val_loss: 0.0213 - val_mae: 0.1039\n",
            "Epoch 48/100\n",
            "13/13 [==============================] - 0s 5ms/step - loss: 0.0244 - mae: 0.1122 - val_loss: 0.0218 - val_mae: 0.1048\n",
            "Epoch 49/100\n",
            "13/13 [==============================] - 0s 6ms/step - loss: 0.0223 - mae: 0.1055 - val_loss: 0.0213 - val_mae: 0.1038\n",
            "Epoch 50/100\n",
            "13/13 [==============================] - 0s 5ms/step - loss: 0.0205 - mae: 0.1016 - val_loss: 0.0216 - val_mae: 0.1046\n",
            "Epoch 51/100\n",
            "13/13 [==============================] - 0s 5ms/step - loss: 0.0210 - mae: 0.1009 - val_loss: 0.0212 - val_mae: 0.1037\n",
            "Epoch 52/100\n",
            "13/13 [==============================] - 0s 5ms/step - loss: 0.0234 - mae: 0.1101 - val_loss: 0.0232 - val_mae: 0.1095\n",
            "Epoch 53/100\n",
            "13/13 [==============================] - 0s 5ms/step - loss: 0.0201 - mae: 0.1007 - val_loss: 0.0223 - val_mae: 0.1068\n",
            "Epoch 54/100\n",
            "13/13 [==============================] - 0s 5ms/step - loss: 0.0214 - mae: 0.1048 - val_loss: 0.0197 - val_mae: 0.1012\n",
            "Epoch 55/100\n",
            "13/13 [==============================] - 0s 6ms/step - loss: 0.0217 - mae: 0.1045 - val_loss: 0.0206 - val_mae: 0.1023\n",
            "Epoch 56/100\n",
            "13/13 [==============================] - 0s 5ms/step - loss: 0.0216 - mae: 0.1048 - val_loss: 0.0208 - val_mae: 0.1028\n",
            "Epoch 57/100\n",
            "13/13 [==============================] - 0s 5ms/step - loss: 0.0218 - mae: 0.1056 - val_loss: 0.0197 - val_mae: 0.0999\n",
            "Epoch 58/100\n",
            "13/13 [==============================] - 0s 5ms/step - loss: 0.0218 - mae: 0.1073 - val_loss: 0.0195 - val_mae: 0.0997\n",
            "Epoch 59/100\n",
            "13/13 [==============================] - 0s 5ms/step - loss: 0.0213 - mae: 0.1054 - val_loss: 0.0220 - val_mae: 0.1075\n",
            "Epoch 60/100\n",
            "13/13 [==============================] - 0s 5ms/step - loss: 0.0204 - mae: 0.1011 - val_loss: 0.0194 - val_mae: 0.0995\n",
            "Epoch 61/100\n",
            "13/13 [==============================] - 0s 6ms/step - loss: 0.0232 - mae: 0.1094 - val_loss: 0.0203 - val_mae: 0.1017\n",
            "Epoch 62/100\n",
            "13/13 [==============================] - 0s 5ms/step - loss: 0.0203 - mae: 0.0998 - val_loss: 0.0190 - val_mae: 0.1003\n",
            "Epoch 63/100\n",
            "13/13 [==============================] - 0s 5ms/step - loss: 0.0188 - mae: 0.0973 - val_loss: 0.0204 - val_mae: 0.1023\n",
            "Epoch 64/100\n",
            "13/13 [==============================] - 0s 5ms/step - loss: 0.0206 - mae: 0.1031 - val_loss: 0.0188 - val_mae: 0.0985\n",
            "Epoch 65/100\n",
            "13/13 [==============================] - 0s 5ms/step - loss: 0.0208 - mae: 0.1027 - val_loss: 0.0196 - val_mae: 0.1008\n",
            "Epoch 66/100\n",
            "13/13 [==============================] - 0s 6ms/step - loss: 0.0201 - mae: 0.1038 - val_loss: 0.0187 - val_mae: 0.0985\n",
            "Epoch 67/100\n",
            "13/13 [==============================] - 0s 5ms/step - loss: 0.0198 - mae: 0.1006 - val_loss: 0.0212 - val_mae: 0.1056\n",
            "Epoch 68/100\n",
            "13/13 [==============================] - 0s 5ms/step - loss: 0.0190 - mae: 0.0966 - val_loss: 0.0180 - val_mae: 0.0970\n",
            "Epoch 69/100\n",
            "13/13 [==============================] - 0s 6ms/step - loss: 0.0190 - mae: 0.0992 - val_loss: 0.0184 - val_mae: 0.0976\n",
            "Epoch 70/100\n",
            "13/13 [==============================] - 0s 5ms/step - loss: 0.0182 - mae: 0.0951 - val_loss: 0.0185 - val_mae: 0.0976\n",
            "Epoch 71/100\n",
            "13/13 [==============================] - 0s 5ms/step - loss: 0.0182 - mae: 0.0966 - val_loss: 0.0184 - val_mae: 0.0978\n",
            "Epoch 72/100\n",
            "13/13 [==============================] - 0s 5ms/step - loss: 0.0186 - mae: 0.0978 - val_loss: 0.0175 - val_mae: 0.0960\n",
            "Epoch 73/100\n",
            "13/13 [==============================] - 0s 5ms/step - loss: 0.0193 - mae: 0.0994 - val_loss: 0.0189 - val_mae: 0.0990\n",
            "Epoch 74/100\n",
            "13/13 [==============================] - 0s 5ms/step - loss: 0.0193 - mae: 0.0972 - val_loss: 0.0176 - val_mae: 0.0963\n",
            "Epoch 75/100\n",
            "13/13 [==============================] - 0s 5ms/step - loss: 0.0190 - mae: 0.1000 - val_loss: 0.0186 - val_mae: 0.0984\n",
            "Epoch 76/100\n",
            "13/13 [==============================] - 0s 5ms/step - loss: 0.0178 - mae: 0.0946 - val_loss: 0.0179 - val_mae: 0.0966\n",
            "Epoch 77/100\n",
            "13/13 [==============================] - 0s 5ms/step - loss: 0.0183 - mae: 0.0950 - val_loss: 0.0171 - val_mae: 0.0951\n",
            "Epoch 78/100\n",
            "13/13 [==============================] - 0s 5ms/step - loss: 0.0186 - mae: 0.0961 - val_loss: 0.0190 - val_mae: 0.0994\n",
            "Epoch 79/100\n",
            "13/13 [==============================] - 0s 5ms/step - loss: 0.0175 - mae: 0.0948 - val_loss: 0.0170 - val_mae: 0.0945\n",
            "Epoch 80/100\n",
            "13/13 [==============================] - 0s 5ms/step - loss: 0.0170 - mae: 0.0932 - val_loss: 0.0193 - val_mae: 0.1002\n",
            "Epoch 81/100\n",
            "13/13 [==============================] - 0s 5ms/step - loss: 0.0171 - mae: 0.0944 - val_loss: 0.0195 - val_mae: 0.1003\n",
            "Epoch 82/100\n",
            "13/13 [==============================] - 0s 5ms/step - loss: 0.0182 - mae: 0.0960 - val_loss: 0.0169 - val_mae: 0.0943\n",
            "Epoch 83/100\n",
            "13/13 [==============================] - 0s 5ms/step - loss: 0.0190 - mae: 0.0981 - val_loss: 0.0170 - val_mae: 0.0944\n",
            "Epoch 84/100\n",
            "13/13 [==============================] - 0s 5ms/step - loss: 0.0165 - mae: 0.0916 - val_loss: 0.0184 - val_mae: 0.0977\n",
            "Epoch 85/100\n",
            "13/13 [==============================] - 0s 5ms/step - loss: 0.0192 - mae: 0.1000 - val_loss: 0.0196 - val_mae: 0.1007\n",
            "Epoch 86/100\n",
            "13/13 [==============================] - 0s 5ms/step - loss: 0.0172 - mae: 0.0933 - val_loss: 0.0169 - val_mae: 0.0939\n",
            "Epoch 87/100\n",
            "13/13 [==============================] - 0s 5ms/step - loss: 0.0184 - mae: 0.0972 - val_loss: 0.0160 - val_mae: 0.0921\n",
            "Epoch 88/100\n",
            "13/13 [==============================] - 0s 5ms/step - loss: 0.0174 - mae: 0.0935 - val_loss: 0.0194 - val_mae: 0.0997\n",
            "Epoch 89/100\n",
            "13/13 [==============================] - 0s 5ms/step - loss: 0.0171 - mae: 0.0910 - val_loss: 0.0164 - val_mae: 0.0920\n",
            "Epoch 90/100\n",
            "13/13 [==============================] - 0s 5ms/step - loss: 0.0181 - mae: 0.0930 - val_loss: 0.0159 - val_mae: 0.0917\n",
            "Epoch 91/100\n",
            "13/13 [==============================] - 0s 5ms/step - loss: 0.0168 - mae: 0.0920 - val_loss: 0.0163 - val_mae: 0.0919\n",
            "Epoch 92/100\n",
            "13/13 [==============================] - 0s 5ms/step - loss: 0.0166 - mae: 0.0919 - val_loss: 0.0182 - val_mae: 0.0964\n",
            "Epoch 93/100\n",
            "13/13 [==============================] - 0s 5ms/step - loss: 0.0160 - mae: 0.0862 - val_loss: 0.0158 - val_mae: 0.0911\n",
            "Epoch 94/100\n",
            "13/13 [==============================] - 0s 6ms/step - loss: 0.0168 - mae: 0.0891 - val_loss: 0.0164 - val_mae: 0.0917\n",
            "Epoch 95/100\n",
            "13/13 [==============================] - 0s 5ms/step - loss: 0.0161 - mae: 0.0880 - val_loss: 0.0163 - val_mae: 0.0914\n",
            "Epoch 96/100\n",
            "13/13 [==============================] - 0s 5ms/step - loss: 0.0167 - mae: 0.0883 - val_loss: 0.0186 - val_mae: 0.0970\n",
            "Epoch 97/100\n",
            "13/13 [==============================] - 0s 5ms/step - loss: 0.0178 - mae: 0.0933 - val_loss: 0.0161 - val_mae: 0.0913\n",
            "Epoch 98/100\n",
            "13/13 [==============================] - 0s 5ms/step - loss: 0.0154 - mae: 0.0871 - val_loss: 0.0178 - val_mae: 0.0948\n",
            "Epoch 99/100\n",
            "13/13 [==============================] - 0s 6ms/step - loss: 0.0165 - mae: 0.0906 - val_loss: 0.0156 - val_mae: 0.0893\n",
            "Epoch 100/100\n",
            "13/13 [==============================] - 0s 6ms/step - loss: 0.0169 - mae: 0.0870 - val_loss: 0.0156 - val_mae: 0.0894\n"
          ],
          "name": "stdout"
        }
      ]
    },
    {
      "cell_type": "code",
      "metadata": {
        "colab": {
          "base_uri": "https://localhost:8080/",
          "height": 282
        },
        "id": "E8cCCFviOKuF",
        "outputId": "c73e4e51-2ec3-4785-f3bf-b458e0548fbe"
      },
      "source": [
        "train_loss=history.history[\"loss\"]\n",
        "val_loss=history.history[\"val_loss\"]\n",
        "plt.plot(train_loss,range(0,epoch))\n",
        "plt.plot(val_loss,range(0,epoch))\n",
        "plt.legend([\"train_loss\",\"val_loss\"])"
      ],
      "execution_count": 116,
      "outputs": [
        {
          "output_type": "execute_result",
          "data": {
            "text/plain": [
              "<matplotlib.legend.Legend at 0x7ff69b160d10>"
            ]
          },
          "metadata": {
            "tags": []
          },
          "execution_count": 116
        },
        {
          "output_type": "display_data",
          "data": {
            "image/png": "[encoded data removed]",
            "text/plain": [
              "<Figure size 432x288 with 1 Axes>"
            ]
          },
          "metadata": {
            "tags": [],
            "needs_background": "light"
          }
        }
      ]
    },
    {
      "cell_type": "code",
      "metadata": {
        "colab": {
          "base_uri": "https://localhost:8080/"
        },
        "id": "BP0q9cXBmAJn",
        "outputId": "7037e793-8ab4-4349-8a69-d2aabc258eb9"
      },
      "source": [
        "loss,accuracy=network.evaluate(X_test,Y_test)"
      ],
      "execution_count": 117,
      "outputs": [
        {
          "output_type": "stream",
          "text": [
            "17/17 [==============================] - 0s 1ms/step - loss: 0.0157 - mae: 0.0883\n"
          ],
          "name": "stdout"
        }
      ]
    },
    {
      "cell_type": "code",
      "metadata": {
        "id": "AiZJuEX1tXIa"
      },
      "source": [
        ""
      ],
      "execution_count": null,
      "outputs": []
    }
  ]
}