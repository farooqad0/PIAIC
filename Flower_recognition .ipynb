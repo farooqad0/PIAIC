{
  "nbformat": 4,
  "nbformat_minor": 0,
  "metadata": {
    "colab": {
      "name": "Flower recognition.ipynb",
      "provenance": []
    },
    "kernelspec": {
      "name": "python3",
      "display_name": "Python 3"
    },
    "language_info": {
      "name": "python"
    }
  },
  "cells": [
    {
      "cell_type": "markdown",
      "metadata": {
        "id": "OK-saN0i1TYN"
      },
      "source": [
        "#Importing Libraries"
      ]
    },
    {
      "cell_type": "code",
      "metadata": {
        "id": "kczo7IOs1U3J"
      },
      "source": [
        "import pandas as pd\n",
        "import numpy as np\n",
        "import matplotlib.pyplot as plt\n",
        "import seaborn as sns\n",
        "from google.colab import drive\n",
        "import glob\n",
        "import os\n",
        "from PIL import Image\n",
        "from tensorflow.keras.preprocessing import image_dataset_from_directory\n",
        "import pathlib\n",
        "import tensorflow as tf\n"
      ],
      "execution_count": 72,
      "outputs": []
    },
    {
      "cell_type": "markdown",
      "metadata": {
        "id": "dEEO3Qlv1hdb"
      },
      "source": [
        "#Uploading Datasets"
      ]
    },
    {
      "cell_type": "code",
      "metadata": {
        "colab": {
          "base_uri": "https://localhost:8080/"
        },
        "id": "_-G6vNbL1efz",
        "outputId": "ebe693d5-e4bf-4dc3-caaa-091a8644282a"
      },
      "source": [
        "drive.mount(\"datasets\")"
      ],
      "execution_count": 2,
      "outputs": [
        {
          "output_type": "stream",
          "text": [
            "Mounted at datasets\n"
          ],
          "name": "stdout"
        }
      ]
    },
    {
      "cell_type": "code",
      "metadata": {
        "id": "zXn1hFtW1lxU"
      },
      "source": [
        "Tulip_path=glob.glob(os.path.join(\"/content/datasets/MyDrive/PIAIC datasets/flowers/tulip\",\"*.jpg\"))\n",
        "Sunflower_path=glob.glob(os.path.join(\"/content/datasets/MyDrive/PIAIC datasets/flowers/sunflower\",\"*.jpg\"))\n",
        "rose_path=glob.glob(os.path.join(\"/content/datasets/MyDrive/PIAIC datasets/flowers/rose\",\"*.jpg\"))\n",
        "dandelion_path=glob.glob(os.path.join(\"/content/datasets/MyDrive/PIAIC datasets/flowers/dandelion\",\"*.jpg\"))\n",
        "daisy_path=glob.glob(os.path.join(\"/content/datasets/MyDrive/PIAIC datasets/flowers/daisy\",\"*.jpg\"))"
      ],
      "execution_count": 9,
      "outputs": []
    },
    {
      "cell_type": "code",
      "metadata": {
        "colab": {
          "base_uri": "https://localhost:8080/"
        },
        "id": "RBbhgyJ0PMGq",
        "outputId": "6a5534cb-7f3e-42fe-e675-232fbbaee875"
      },
      "source": [
        "flowers_path"
      ],
      "execution_count": 104,
      "outputs": [
        {
          "output_type": "execute_result",
          "data": {
            "text/plain": [
              "[]"
            ]
          },
          "metadata": {
            "tags": []
          },
          "execution_count": 104
        }
      ]
    },
    {
      "cell_type": "markdown",
      "metadata": {
        "id": "Ff05FmbK3jY8"
      },
      "source": [
        "#Transforming the pictures into array"
      ]
    },
    {
      "cell_type": "code",
      "metadata": {
        "id": "4kNr_omhObuc"
      },
      "source": [
        "Data=[]\n",
        "Label=[]"
      ],
      "execution_count": 207,
      "outputs": []
    },
    {
      "cell_type": "code",
      "metadata": {
        "id": "GS8KMSIZArzk"
      },
      "source": [
        "\n",
        "for i in daisy_path:\n",
        "  image=Image.open(i)\n",
        "  image=image.convert(mode=\"L\")\n",
        "  image=image.resize((20,20))\n",
        "  image=np.asarray(image)\n",
        "  Data.append(image)\n",
        "  Label.append(\"Daisy\")\n"
      ],
      "execution_count": 208,
      "outputs": []
    },
    {
      "cell_type": "code",
      "metadata": {
        "id": "72cGUrrmH9gU"
      },
      "source": [
        "for j in dandelion_path:\n",
        "  image=Image.open(j)\n",
        "  image=image.convert(mode=\"L\")\n",
        "  image=image.resize((20,20))\n",
        "  image=np.asarray(image)\n",
        "  Data.append(image)\n",
        "  Label.append(\"Dandelion\") "
      ],
      "execution_count": 209,
      "outputs": []
    },
    {
      "cell_type": "code",
      "metadata": {
        "id": "mGJDzzpcNk6z"
      },
      "source": [
        "for l in rose_path:\n",
        "  image=Image.open(l)\n",
        "  image=image.convert(mode=\"L\")\n",
        "  image=image.resize((20,20))\n",
        "  image=np.asarray(image)\n",
        "  Data.append(image)\n",
        "  Label.append(\"Rose\")"
      ],
      "execution_count": 210,
      "outputs": []
    },
    {
      "cell_type": "code",
      "metadata": {
        "id": "qXg4OqDzNzt9"
      },
      "source": [
        "for g in Sunflower_path:\n",
        "  image=Image.open(g)\n",
        "  image=image.convert(mode=\"L\")\n",
        "  image=image.resize((20,20))\n",
        "  image=np.asarray(image)\n",
        "  Data.append(image)\n",
        "  Label.append(\"Sunflower\")"
      ],
      "execution_count": 211,
      "outputs": []
    },
    {
      "cell_type": "code",
      "metadata": {
        "id": "nUiTVJ4SOEgH"
      },
      "source": [
        "for t in Tulip_path:\n",
        "  image=Image.open(g)\n",
        "  image=image.convert(mode=\"L\")\n",
        "  image=image.resize((20,20))\n",
        "  image=np.asarray(image)\n",
        "  Data.append(image)\n",
        "  Label.append(\"Tulip\")\n"
      ],
      "execution_count": 212,
      "outputs": []
    },
    {
      "cell_type": "markdown",
      "metadata": {
        "id": "E_31KJoCbQfw"
      },
      "source": [
        "#Normalization and Standardization\n"
      ]
    },
    {
      "cell_type": "code",
      "metadata": {
        "id": "rF_M1ET-eVEJ"
      },
      "source": [
        "X=np.array(Data)"
      ],
      "execution_count": 271,
      "outputs": []
    },
    {
      "cell_type": "code",
      "metadata": {
        "id": "ZE2XZSOjb3fn"
      },
      "source": [
        "X=X/255"
      ],
      "execution_count": 272,
      "outputs": []
    },
    {
      "cell_type": "markdown",
      "metadata": {
        "id": "pi8jYabyS3A1"
      },
      "source": [
        "#Splitting Data"
      ]
    },
    {
      "cell_type": "code",
      "metadata": {
        "id": "L7JtPYEZSgpM"
      },
      "source": [
        "from sklearn.model_selection import train_test_split"
      ],
      "execution_count": 273,
      "outputs": []
    },
    {
      "cell_type": "code",
      "metadata": {
        "colab": {
          "base_uri": "https://localhost:8080/",
          "height": 419
        },
        "id": "p7fGRXpMT3fG",
        "outputId": "2e53024d-5ac1-4827-9b92-299912813423"
      },
      "source": [
        "Label=pd.DataFrame(Label,columns=[\"Label\"])\n",
        "Label.value_counts()\n",
        "Label"
      ],
      "execution_count": 274,
      "outputs": [
        {
          "output_type": "execute_result",
          "data": {
            "text/html": [
              "<div>\n",
              "<style scoped>\n",
              "    .dataframe tbody tr th:only-of-type {\n",
              "        vertical-align: middle;\n",
              "    }\n",
              "\n",
              "    .dataframe tbody tr th {\n",
              "        vertical-align: top;\n",
              "    }\n",
              "\n",
              "    .dataframe thead th {\n",
              "        text-align: right;\n",
              "    }\n",
              "</style>\n",
              "<table border=\"1\" class=\"dataframe\">\n",
              "  <thead>\n",
              "    <tr style=\"text-align: right;\">\n",
              "      <th></th>\n",
              "      <th>Label</th>\n",
              "    </tr>\n",
              "  </thead>\n",
              "  <tbody>\n",
              "    <tr>\n",
              "      <th>0</th>\n",
              "      <td>Daisy</td>\n",
              "    </tr>\n",
              "    <tr>\n",
              "      <th>1</th>\n",
              "      <td>Daisy</td>\n",
              "    </tr>\n",
              "    <tr>\n",
              "      <th>2</th>\n",
              "      <td>Daisy</td>\n",
              "    </tr>\n",
              "    <tr>\n",
              "      <th>3</th>\n",
              "      <td>Daisy</td>\n",
              "    </tr>\n",
              "    <tr>\n",
              "      <th>4</th>\n",
              "      <td>Daisy</td>\n",
              "    </tr>\n",
              "    <tr>\n",
              "      <th>...</th>\n",
              "      <td>...</td>\n",
              "    </tr>\n",
              "    <tr>\n",
              "      <th>4318</th>\n",
              "      <td>Tulip</td>\n",
              "    </tr>\n",
              "    <tr>\n",
              "      <th>4319</th>\n",
              "      <td>Tulip</td>\n",
              "    </tr>\n",
              "    <tr>\n",
              "      <th>4320</th>\n",
              "      <td>Tulip</td>\n",
              "    </tr>\n",
              "    <tr>\n",
              "      <th>4321</th>\n",
              "      <td>Tulip</td>\n",
              "    </tr>\n",
              "    <tr>\n",
              "      <th>4322</th>\n",
              "      <td>Tulip</td>\n",
              "    </tr>\n",
              "  </tbody>\n",
              "</table>\n",
              "<p>4323 rows × 1 columns</p>\n",
              "</div>"
            ],
            "text/plain": [
              "      Label\n",
              "0     Daisy\n",
              "1     Daisy\n",
              "2     Daisy\n",
              "3     Daisy\n",
              "4     Daisy\n",
              "...     ...\n",
              "4318  Tulip\n",
              "4319  Tulip\n",
              "4320  Tulip\n",
              "4321  Tulip\n",
              "4322  Tulip\n",
              "\n",
              "[4323 rows x 1 columns]"
            ]
          },
          "metadata": {
            "tags": []
          },
          "execution_count": 274
        }
      ]
    },
    {
      "cell_type": "code",
      "metadata": {
        "id": "ZX9AEUk4V7LZ"
      },
      "source": [
        "dict_={\"Tulip\":0,\n",
        "      \"Sunflower\":1,\n",
        "      \"Rose\":2,\n",
        "      \"Dandelion\":3,\n",
        "      \"Daisy\":4\n",
        "      }"
      ],
      "execution_count": 255,
      "outputs": []
    },
    {
      "cell_type": "code",
      "metadata": {
        "id": "toywORYnVp9O"
      },
      "source": [
        "Class = Label[\"Label\"].map(dict_)"
      ],
      "execution_count": 256,
      "outputs": []
    },
    {
      "cell_type": "markdown",
      "metadata": {
        "id": "vQrkpujZVP6X"
      },
      "source": [
        "#### One hot encoding"
      ]
    },
    {
      "cell_type": "code",
      "metadata": {
        "id": "uKvrKp2CVR02"
      },
      "source": [
        "from tensorflow.keras.utils import to_categorical"
      ],
      "execution_count": 257,
      "outputs": []
    },
    {
      "cell_type": "code",
      "metadata": {
        "id": "rJ8RDk_LUekq"
      },
      "source": [
        "Y=to_categorical(Class)"
      ],
      "execution_count": 258,
      "outputs": []
    },
    {
      "cell_type": "markdown",
      "metadata": {
        "id": "fPsTHMPjWCgl"
      },
      "source": [
        "#Splitting Datasets"
      ]
    },
    {
      "cell_type": "code",
      "metadata": {
        "id": "t0yVAjiCS-5d"
      },
      "source": [
        "X_train,X_test,Y_train,Y_test=train_test_split(X,Y,train_size=0.6)"
      ],
      "execution_count": 259,
      "outputs": []
    },
    {
      "cell_type": "code",
      "metadata": {
        "colab": {
          "base_uri": "https://localhost:8080/"
        },
        "id": "fq4cZxAKWKTm",
        "outputId": "401b675c-32d8-49bd-ee6e-c390ca5eaea1"
      },
      "source": [
        "Y_train.shape"
      ],
      "execution_count": 260,
      "outputs": [
        {
          "output_type": "execute_result",
          "data": {
            "text/plain": [
              "(2593, 5)"
            ]
          },
          "metadata": {
            "tags": []
          },
          "execution_count": 260
        }
      ]
    },
    {
      "cell_type": "markdown",
      "metadata": {
        "id": "KFaUZ3fvWY2u"
      },
      "source": [
        "#Model"
      ]
    },
    {
      "cell_type": "code",
      "metadata": {
        "id": "Erm2bevRWLrk"
      },
      "source": [
        "from tensorflow.keras import models as M\n",
        "from tensorflow.keras import layers as L\n",
        "from tensorflow.keras.regularizers import L2"
      ],
      "execution_count": 261,
      "outputs": []
    },
    {
      "cell_type": "code",
      "metadata": {
        "colab": {
          "base_uri": "https://localhost:8080/"
        },
        "id": "CJEPMpjcWfaF",
        "outputId": "d59c6cae-89ed-48c9-b6c9-9e92f70da826"
      },
      "source": [
        "network=M.Sequential()\n",
        "network.add(L.Flatten(input_shape=(20,20)))\n",
        "network.add(L.Dense(24,activation=\"relu\",kernel_regularizer=\"l2\"))\n",
        "network.add(L.Dense(12,activation=\"relu\"))\n",
        "network.add(L.Dense(5))\n",
        "network.compile(optimizer=\"rmsprop\",loss=\"CategoricalCrossentropy\",metrics=[\"accuracy\"])\n",
        "network.summary()"
      ],
      "execution_count": 269,
      "outputs": [
        {
          "output_type": "stream",
          "text": [
            "Model: \"sequential_21\"\n",
            "_________________________________________________________________\n",
            "Layer (type)                 Output Shape              Param #   \n",
            "=================================================================\n",
            "flatten_18 (Flatten)         (None, 400)               0         \n",
            "_________________________________________________________________\n",
            "dense_51 (Dense)             (None, 24)                9624      \n",
            "_________________________________________________________________\n",
            "dense_52 (Dense)             (None, 12)                300       \n",
            "_________________________________________________________________\n",
            "dense_53 (Dense)             (None, 5)                 65        \n",
            "=================================================================\n",
            "Total params: 9,989\n",
            "Trainable params: 9,989\n",
            "Non-trainable params: 0\n",
            "_________________________________________________________________\n"
          ],
          "name": "stdout"
        }
      ]
    },
    {
      "cell_type": "code",
      "metadata": {
        "id": "ld1nnS7oY6u5"
      },
      "source": [
        "network.compile(optimizer=\"rmsprop\",loss=\"CategoricalCrossentropy\",metrics=[\"accuracy\"])"
      ],
      "execution_count": 263,
      "outputs": []
    },
    {
      "cell_type": "code",
      "metadata": {
        "colab": {
          "base_uri": "https://localhost:8080/"
        },
        "id": "uY5ZCvZVWrLz",
        "outputId": "922ebcbe-547e-4eb4-b14a-f7627779043a"
      },
      "source": [
        "network.fit(X_train,Y_train,epochs=100,batch_size=100)"
      ],
      "execution_count": 264,
      "outputs": [
        {
          "output_type": "stream",
          "text": [
            "Epoch 1/100\n",
            "26/26 [==============================] - 1s 2ms/step - loss: 8.7672 - accuracy: 0.2340\n",
            "Epoch 2/100\n",
            "26/26 [==============================] - 0s 2ms/step - loss: 10.0337 - accuracy: 0.2249\n",
            "Epoch 3/100\n",
            "26/26 [==============================] - 0s 2ms/step - loss: 9.4488 - accuracy: 0.2419\n",
            "Epoch 4/100\n",
            "26/26 [==============================] - 0s 2ms/step - loss: 9.7649 - accuracy: 0.2256\n",
            "Epoch 5/100\n",
            "26/26 [==============================] - 0s 2ms/step - loss: 9.4755 - accuracy: 0.2505\n",
            "Epoch 6/100\n",
            "26/26 [==============================] - 0s 2ms/step - loss: 9.5460 - accuracy: 0.2296\n",
            "Epoch 7/100\n",
            "26/26 [==============================] - 0s 2ms/step - loss: 9.8797 - accuracy: 0.2233\n",
            "Epoch 8/100\n",
            "26/26 [==============================] - 0s 2ms/step - loss: 9.5705 - accuracy: 0.2332\n",
            "Epoch 9/100\n",
            "26/26 [==============================] - 0s 1ms/step - loss: 9.5902 - accuracy: 0.2350\n",
            "Epoch 10/100\n",
            "26/26 [==============================] - 0s 2ms/step - loss: 9.6020 - accuracy: 0.2407\n",
            "Epoch 11/100\n",
            "26/26 [==============================] - 0s 2ms/step - loss: 9.5704 - accuracy: 0.2328\n",
            "Epoch 12/100\n",
            "26/26 [==============================] - 0s 2ms/step - loss: 9.7135 - accuracy: 0.2280\n",
            "Epoch 13/100\n",
            "26/26 [==============================] - 0s 2ms/step - loss: 9.4258 - accuracy: 0.2419\n",
            "Epoch 14/100\n",
            "26/26 [==============================] - 0s 2ms/step - loss: 9.7442 - accuracy: 0.2345\n",
            "Epoch 15/100\n",
            "26/26 [==============================] - 0s 2ms/step - loss: 9.6686 - accuracy: 0.2421\n",
            "Epoch 16/100\n",
            "26/26 [==============================] - 0s 2ms/step - loss: 9.4746 - accuracy: 0.2332\n",
            "Epoch 17/100\n",
            "26/26 [==============================] - 0s 2ms/step - loss: 9.6830 - accuracy: 0.2261\n",
            "Epoch 18/100\n",
            "26/26 [==============================] - 0s 2ms/step - loss: 9.6199 - accuracy: 0.2377\n",
            "Epoch 19/100\n",
            "26/26 [==============================] - 0s 2ms/step - loss: 9.6910 - accuracy: 0.2340\n",
            "Epoch 20/100\n",
            "26/26 [==============================] - 0s 2ms/step - loss: 9.7291 - accuracy: 0.2343\n",
            "Epoch 21/100\n",
            "26/26 [==============================] - 0s 2ms/step - loss: 9.4029 - accuracy: 0.2442\n",
            "Epoch 22/100\n",
            "26/26 [==============================] - 0s 2ms/step - loss: 9.5696 - accuracy: 0.2395\n",
            "Epoch 23/100\n",
            "26/26 [==============================] - 0s 2ms/step - loss: 9.6072 - accuracy: 0.2287\n",
            "Epoch 24/100\n",
            "26/26 [==============================] - 0s 2ms/step - loss: 9.8373 - accuracy: 0.2243\n",
            "Epoch 25/100\n",
            "26/26 [==============================] - 0s 2ms/step - loss: 9.7073 - accuracy: 0.2255\n",
            "Epoch 26/100\n",
            "26/26 [==============================] - 0s 2ms/step - loss: 9.7970 - accuracy: 0.2302\n",
            "Epoch 27/100\n",
            "26/26 [==============================] - 0s 2ms/step - loss: 9.7202 - accuracy: 0.2262\n",
            "Epoch 28/100\n",
            "26/26 [==============================] - 0s 2ms/step - loss: 9.7274 - accuracy: 0.2319\n",
            "Epoch 29/100\n",
            "26/26 [==============================] - 0s 2ms/step - loss: 9.7117 - accuracy: 0.2262\n",
            "Epoch 30/100\n",
            "26/26 [==============================] - 0s 2ms/step - loss: 9.6165 - accuracy: 0.2324\n",
            "Epoch 31/100\n",
            "26/26 [==============================] - 0s 1ms/step - loss: 9.5441 - accuracy: 0.2325\n",
            "Epoch 32/100\n",
            "26/26 [==============================] - 0s 2ms/step - loss: 9.7194 - accuracy: 0.2293\n",
            "Epoch 33/100\n",
            "26/26 [==============================] - 0s 2ms/step - loss: 9.5845 - accuracy: 0.2363\n",
            "Epoch 34/100\n",
            "26/26 [==============================] - 0s 2ms/step - loss: 9.5550 - accuracy: 0.2386\n",
            "Epoch 35/100\n",
            "26/26 [==============================] - 0s 2ms/step - loss: 9.4719 - accuracy: 0.2394\n",
            "Epoch 36/100\n",
            "26/26 [==============================] - 0s 2ms/step - loss: 9.5255 - accuracy: 0.2387\n",
            "Epoch 37/100\n",
            "26/26 [==============================] - 0s 2ms/step - loss: 9.6421 - accuracy: 0.2376\n",
            "Epoch 38/100\n",
            "26/26 [==============================] - 0s 2ms/step - loss: 9.6051 - accuracy: 0.2376\n",
            "Epoch 39/100\n",
            "26/26 [==============================] - 0s 2ms/step - loss: 9.7045 - accuracy: 0.2308\n",
            "Epoch 40/100\n",
            "26/26 [==============================] - 0s 2ms/step - loss: 9.8072 - accuracy: 0.2342\n",
            "Epoch 41/100\n",
            "26/26 [==============================] - 0s 2ms/step - loss: 9.6661 - accuracy: 0.2326\n",
            "Epoch 42/100\n",
            "26/26 [==============================] - 0s 2ms/step - loss: 9.6060 - accuracy: 0.2279\n",
            "Epoch 43/100\n",
            "26/26 [==============================] - 0s 2ms/step - loss: 9.5779 - accuracy: 0.2320\n",
            "Epoch 44/100\n",
            "26/26 [==============================] - 0s 2ms/step - loss: 9.6209 - accuracy: 0.2331\n",
            "Epoch 45/100\n",
            "26/26 [==============================] - 0s 2ms/step - loss: 9.7819 - accuracy: 0.2257\n",
            "Epoch 46/100\n",
            "26/26 [==============================] - 0s 2ms/step - loss: 9.7874 - accuracy: 0.2210\n",
            "Epoch 47/100\n",
            "26/26 [==============================] - 0s 2ms/step - loss: 9.5575 - accuracy: 0.2296\n",
            "Epoch 48/100\n",
            "26/26 [==============================] - 0s 2ms/step - loss: 9.4268 - accuracy: 0.2463\n",
            "Epoch 49/100\n",
            "26/26 [==============================] - 0s 2ms/step - loss: 9.6471 - accuracy: 0.2293\n",
            "Epoch 50/100\n",
            "26/26 [==============================] - 0s 2ms/step - loss: 9.5439 - accuracy: 0.2344\n",
            "Epoch 51/100\n",
            "26/26 [==============================] - 0s 2ms/step - loss: 9.5445 - accuracy: 0.2518\n",
            "Epoch 52/100\n",
            "26/26 [==============================] - 0s 2ms/step - loss: 9.8084 - accuracy: 0.2360\n",
            "Epoch 53/100\n",
            "26/26 [==============================] - 0s 2ms/step - loss: 9.6236 - accuracy: 0.2414\n",
            "Epoch 54/100\n",
            "26/26 [==============================] - 0s 2ms/step - loss: 9.7112 - accuracy: 0.2227\n",
            "Epoch 55/100\n",
            "26/26 [==============================] - 0s 2ms/step - loss: 9.7008 - accuracy: 0.2244\n",
            "Epoch 56/100\n",
            "26/26 [==============================] - 0s 2ms/step - loss: 9.5324 - accuracy: 0.2340\n",
            "Epoch 57/100\n",
            "26/26 [==============================] - 0s 2ms/step - loss: 9.8153 - accuracy: 0.2240\n",
            "Epoch 58/100\n",
            "26/26 [==============================] - 0s 2ms/step - loss: 9.5724 - accuracy: 0.2351\n",
            "Epoch 59/100\n",
            "26/26 [==============================] - 0s 2ms/step - loss: 9.6777 - accuracy: 0.2357\n",
            "Epoch 60/100\n",
            "26/26 [==============================] - 0s 2ms/step - loss: 9.5373 - accuracy: 0.2275\n",
            "Epoch 61/100\n",
            "26/26 [==============================] - 0s 2ms/step - loss: 9.6270 - accuracy: 0.2324\n",
            "Epoch 62/100\n",
            "26/26 [==============================] - 0s 2ms/step - loss: 9.7323 - accuracy: 0.2377\n",
            "Epoch 63/100\n",
            "26/26 [==============================] - 0s 2ms/step - loss: 9.4492 - accuracy: 0.2363\n",
            "Epoch 64/100\n",
            "26/26 [==============================] - 0s 2ms/step - loss: 9.8119 - accuracy: 0.2355\n",
            "Epoch 65/100\n",
            "26/26 [==============================] - 0s 2ms/step - loss: 9.6080 - accuracy: 0.2318\n",
            "Epoch 66/100\n",
            "26/26 [==============================] - 0s 1ms/step - loss: 9.9238 - accuracy: 0.2211\n",
            "Epoch 67/100\n",
            "26/26 [==============================] - 0s 2ms/step - loss: 9.7682 - accuracy: 0.2316\n",
            "Epoch 68/100\n",
            "26/26 [==============================] - 0s 2ms/step - loss: 9.7057 - accuracy: 0.2314\n",
            "Epoch 69/100\n",
            "26/26 [==============================] - 0s 2ms/step - loss: 9.6678 - accuracy: 0.2323\n",
            "Epoch 70/100\n",
            "26/26 [==============================] - 0s 2ms/step - loss: 9.6615 - accuracy: 0.2294\n",
            "Epoch 71/100\n",
            "26/26 [==============================] - 0s 2ms/step - loss: 9.5592 - accuracy: 0.2395\n",
            "Epoch 72/100\n",
            "26/26 [==============================] - 0s 2ms/step - loss: 9.8524 - accuracy: 0.2263\n",
            "Epoch 73/100\n",
            "26/26 [==============================] - 0s 2ms/step - loss: 9.5244 - accuracy: 0.2411\n",
            "Epoch 74/100\n",
            "26/26 [==============================] - 0s 2ms/step - loss: 9.3860 - accuracy: 0.2274\n",
            "Epoch 75/100\n",
            "26/26 [==============================] - 0s 2ms/step - loss: 9.4328 - accuracy: 0.2392\n",
            "Epoch 76/100\n",
            "26/26 [==============================] - 0s 2ms/step - loss: 9.7908 - accuracy: 0.2315\n",
            "Epoch 77/100\n",
            "26/26 [==============================] - 0s 2ms/step - loss: 9.5339 - accuracy: 0.2380\n",
            "Epoch 78/100\n",
            "26/26 [==============================] - 0s 2ms/step - loss: 9.5852 - accuracy: 0.2442\n",
            "Epoch 79/100\n",
            "26/26 [==============================] - 0s 2ms/step - loss: 9.5396 - accuracy: 0.2330\n",
            "Epoch 80/100\n",
            "26/26 [==============================] - 0s 2ms/step - loss: 9.6277 - accuracy: 0.2433\n",
            "Epoch 81/100\n",
            "26/26 [==============================] - 0s 2ms/step - loss: 9.3590 - accuracy: 0.2419\n",
            "Epoch 82/100\n",
            "26/26 [==============================] - 0s 2ms/step - loss: 9.6627 - accuracy: 0.2391\n",
            "Epoch 83/100\n",
            "26/26 [==============================] - 0s 2ms/step - loss: 9.7238 - accuracy: 0.2334\n",
            "Epoch 84/100\n",
            "26/26 [==============================] - 0s 2ms/step - loss: 9.6352 - accuracy: 0.2349\n",
            "Epoch 85/100\n",
            "26/26 [==============================] - 0s 2ms/step - loss: 9.8689 - accuracy: 0.2138\n",
            "Epoch 86/100\n",
            "26/26 [==============================] - 0s 2ms/step - loss: 9.7542 - accuracy: 0.2253\n",
            "Epoch 87/100\n",
            "26/26 [==============================] - 0s 2ms/step - loss: 9.6704 - accuracy: 0.2326\n",
            "Epoch 88/100\n",
            "26/26 [==============================] - 0s 2ms/step - loss: 9.2713 - accuracy: 0.2462\n",
            "Epoch 89/100\n",
            "26/26 [==============================] - 0s 2ms/step - loss: 9.5522 - accuracy: 0.2324\n",
            "Epoch 90/100\n",
            "26/26 [==============================] - 0s 2ms/step - loss: 9.4867 - accuracy: 0.2439\n",
            "Epoch 91/100\n",
            "26/26 [==============================] - 0s 2ms/step - loss: 9.8697 - accuracy: 0.2220\n",
            "Epoch 92/100\n",
            "26/26 [==============================] - 0s 2ms/step - loss: 9.5789 - accuracy: 0.2298\n",
            "Epoch 93/100\n",
            "26/26 [==============================] - 0s 2ms/step - loss: 9.6924 - accuracy: 0.2280\n",
            "Epoch 94/100\n",
            "26/26 [==============================] - 0s 2ms/step - loss: 9.3882 - accuracy: 0.2350\n",
            "Epoch 95/100\n",
            "26/26 [==============================] - 0s 2ms/step - loss: 9.5196 - accuracy: 0.2476\n",
            "Epoch 96/100\n",
            "26/26 [==============================] - 0s 2ms/step - loss: 9.3226 - accuracy: 0.2462\n",
            "Epoch 97/100\n",
            "26/26 [==============================] - 0s 2ms/step - loss: 9.4227 - accuracy: 0.2473\n",
            "Epoch 98/100\n",
            "26/26 [==============================] - 0s 2ms/step - loss: 9.9875 - accuracy: 0.2194\n",
            "Epoch 99/100\n",
            "26/26 [==============================] - 0s 2ms/step - loss: 9.7031 - accuracy: 0.2417\n",
            "Epoch 100/100\n",
            "26/26 [==============================] - 0s 2ms/step - loss: 9.5656 - accuracy: 0.2427\n"
          ],
          "name": "stdout"
        },
        {
          "output_type": "execute_result",
          "data": {
            "text/plain": [
              "<tensorflow.python.keras.callbacks.History at 0x7fb90f2ae810>"
            ]
          },
          "metadata": {
            "tags": []
          },
          "execution_count": 264
        }
      ]
    },
    {
      "cell_type": "code",
      "metadata": {
        "colab": {
          "base_uri": "https://localhost:8080/"
        },
        "id": "LLfG9BmuXV8g",
        "outputId": "472c17cc-b2e7-4e9d-9cc2-992f43b72801"
      },
      "source": [
        "network.evaluate(X_test,Y_test)"
      ],
      "execution_count": 244,
      "outputs": [
        {
          "output_type": "stream",
          "text": [
            "55/55 [==============================] - 0s 1ms/step - loss: 11.1629 - accuracy: 0.2335\n"
          ],
          "name": "stdout"
        },
        {
          "output_type": "execute_result",
          "data": {
            "text/plain": [
              "[11.162860870361328, 0.23352600634098053]"
            ]
          },
          "metadata": {
            "tags": []
          },
          "execution_count": 244
        }
      ]
    }
  ]
}