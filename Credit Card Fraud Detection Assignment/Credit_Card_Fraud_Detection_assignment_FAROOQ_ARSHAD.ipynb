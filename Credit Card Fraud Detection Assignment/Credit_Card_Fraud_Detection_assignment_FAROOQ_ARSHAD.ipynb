{
  "nbformat": 4,
  "nbformat_minor": 0,
  "metadata": {
    "colab": {
      "name": "Credit-Card-Fraud-Detection-assignment_FAROOQ_ARSHAD.ipynb ",
      "provenance": [],
      "collapsed_sections": []
    },
    "kernelspec": {
      "name": "python3",
      "display_name": "Python 3"
    },
    "language_info": {
      "name": "python"
    }
  },
  "cells": [
    {
      "cell_type": "markdown",
      "metadata": {
        "id": "k08VUD7r5w42"
      },
      "source": [
        "#Import libraries"
      ]
    },
    {
      "cell_type": "code",
      "metadata": {
        "id": "HuTKbcjh5YJY"
      },
      "source": [
        "import pandas as pd\n",
        "import matplotlib.pyplot as plt\n",
        "import numpy as np"
      ],
      "execution_count": null,
      "outputs": []
    },
    {
      "cell_type": "markdown",
      "metadata": {
        "id": "IT1hkEw55z1p"
      },
      "source": [
        "#Uploading Data"
      ]
    },
    {
      "cell_type": "code",
      "metadata": {
        "colab": {
          "base_uri": "https://localhost:8080/"
        },
        "id": "zc9tam5W5dRr",
        "outputId": "b09c3c12-df1f-4cfe-e8fd-a4cc36e22afd"
      },
      "source": [
        "data=pd.read_csv(\"./creditcard.csv\")\n",
        "data.shape"
      ],
      "execution_count": null,
      "outputs": [
        {
          "output_type": "execute_result",
          "data": {
            "text/plain": [
              "(284807, 31)"
            ]
          },
          "metadata": {
            "tags": []
          },
          "execution_count": 31
        }
      ]
    },
    {
      "cell_type": "code",
      "metadata": {
        "colab": {
          "base_uri": "https://localhost:8080/",
          "height": 224
        },
        "id": "W05ajE_j7dRc",
        "outputId": "a5788170-0caf-47bd-ea82-00264d472b5c"
      },
      "source": [
        "data.head()"
      ],
      "execution_count": null,
      "outputs": [
        {
          "output_type": "execute_result",
          "data": {
            "text/html": [
              "<div>\n",
              "<style scoped>\n",
              "    .dataframe tbody tr th:only-of-type {\n",
              "        vertical-align: middle;\n",
              "    }\n",
              "\n",
              "    .dataframe tbody tr th {\n",
              "        vertical-align: top;\n",
              "    }\n",
              "\n",
              "    .dataframe thead th {\n",
              "        text-align: right;\n",
              "    }\n",
              "</style>\n",
              "<table border=\"1\" class=\"dataframe\">\n",
              "  <thead>\n",
              "    <tr style=\"text-align: right;\">\n",
              "      <th></th>\n",
              "      <th>Time</th>\n",
              "      <th>V1</th>\n",
              "      <th>V2</th>\n",
              "      <th>V3</th>\n",
              "      <th>V4</th>\n",
              "      <th>V5</th>\n",
              "      <th>V6</th>\n",
              "      <th>V7</th>\n",
              "      <th>V8</th>\n",
              "      <th>V9</th>\n",
              "      <th>V10</th>\n",
              "      <th>V11</th>\n",
              "      <th>V12</th>\n",
              "      <th>V13</th>\n",
              "      <th>V14</th>\n",
              "      <th>V15</th>\n",
              "      <th>V16</th>\n",
              "      <th>V17</th>\n",
              "      <th>V18</th>\n",
              "      <th>V19</th>\n",
              "      <th>V20</th>\n",
              "      <th>V21</th>\n",
              "      <th>V22</th>\n",
              "      <th>V23</th>\n",
              "      <th>V24</th>\n",
              "      <th>V25</th>\n",
              "      <th>V26</th>\n",
              "      <th>V27</th>\n",
              "      <th>V28</th>\n",
              "      <th>Amount</th>\n",
              "      <th>Class</th>\n",
              "    </tr>\n",
              "  </thead>\n",
              "  <tbody>\n",
              "    <tr>\n",
              "      <th>0</th>\n",
              "      <td>0.0</td>\n",
              "      <td>-1.359807</td>\n",
              "      <td>-0.072781</td>\n",
              "      <td>2.536347</td>\n",
              "      <td>1.378155</td>\n",
              "      <td>-0.338321</td>\n",
              "      <td>0.462388</td>\n",
              "      <td>0.239599</td>\n",
              "      <td>0.098698</td>\n",
              "      <td>0.363787</td>\n",
              "      <td>0.090794</td>\n",
              "      <td>-0.551600</td>\n",
              "      <td>-0.617801</td>\n",
              "      <td>-0.991390</td>\n",
              "      <td>-0.311169</td>\n",
              "      <td>1.468177</td>\n",
              "      <td>-0.470401</td>\n",
              "      <td>0.207971</td>\n",
              "      <td>0.025791</td>\n",
              "      <td>0.403993</td>\n",
              "      <td>0.251412</td>\n",
              "      <td>-0.018307</td>\n",
              "      <td>0.277838</td>\n",
              "      <td>-0.110474</td>\n",
              "      <td>0.066928</td>\n",
              "      <td>0.128539</td>\n",
              "      <td>-0.189115</td>\n",
              "      <td>0.133558</td>\n",
              "      <td>-0.021053</td>\n",
              "      <td>149.62</td>\n",
              "      <td>0</td>\n",
              "    </tr>\n",
              "    <tr>\n",
              "      <th>1</th>\n",
              "      <td>0.0</td>\n",
              "      <td>1.191857</td>\n",
              "      <td>0.266151</td>\n",
              "      <td>0.166480</td>\n",
              "      <td>0.448154</td>\n",
              "      <td>0.060018</td>\n",
              "      <td>-0.082361</td>\n",
              "      <td>-0.078803</td>\n",
              "      <td>0.085102</td>\n",
              "      <td>-0.255425</td>\n",
              "      <td>-0.166974</td>\n",
              "      <td>1.612727</td>\n",
              "      <td>1.065235</td>\n",
              "      <td>0.489095</td>\n",
              "      <td>-0.143772</td>\n",
              "      <td>0.635558</td>\n",
              "      <td>0.463917</td>\n",
              "      <td>-0.114805</td>\n",
              "      <td>-0.183361</td>\n",
              "      <td>-0.145783</td>\n",
              "      <td>-0.069083</td>\n",
              "      <td>-0.225775</td>\n",
              "      <td>-0.638672</td>\n",
              "      <td>0.101288</td>\n",
              "      <td>-0.339846</td>\n",
              "      <td>0.167170</td>\n",
              "      <td>0.125895</td>\n",
              "      <td>-0.008983</td>\n",
              "      <td>0.014724</td>\n",
              "      <td>2.69</td>\n",
              "      <td>0</td>\n",
              "    </tr>\n",
              "    <tr>\n",
              "      <th>2</th>\n",
              "      <td>1.0</td>\n",
              "      <td>-1.358354</td>\n",
              "      <td>-1.340163</td>\n",
              "      <td>1.773209</td>\n",
              "      <td>0.379780</td>\n",
              "      <td>-0.503198</td>\n",
              "      <td>1.800499</td>\n",
              "      <td>0.791461</td>\n",
              "      <td>0.247676</td>\n",
              "      <td>-1.514654</td>\n",
              "      <td>0.207643</td>\n",
              "      <td>0.624501</td>\n",
              "      <td>0.066084</td>\n",
              "      <td>0.717293</td>\n",
              "      <td>-0.165946</td>\n",
              "      <td>2.345865</td>\n",
              "      <td>-2.890083</td>\n",
              "      <td>1.109969</td>\n",
              "      <td>-0.121359</td>\n",
              "      <td>-2.261857</td>\n",
              "      <td>0.524980</td>\n",
              "      <td>0.247998</td>\n",
              "      <td>0.771679</td>\n",
              "      <td>0.909412</td>\n",
              "      <td>-0.689281</td>\n",
              "      <td>-0.327642</td>\n",
              "      <td>-0.139097</td>\n",
              "      <td>-0.055353</td>\n",
              "      <td>-0.059752</td>\n",
              "      <td>378.66</td>\n",
              "      <td>0</td>\n",
              "    </tr>\n",
              "    <tr>\n",
              "      <th>3</th>\n",
              "      <td>1.0</td>\n",
              "      <td>-0.966272</td>\n",
              "      <td>-0.185226</td>\n",
              "      <td>1.792993</td>\n",
              "      <td>-0.863291</td>\n",
              "      <td>-0.010309</td>\n",
              "      <td>1.247203</td>\n",
              "      <td>0.237609</td>\n",
              "      <td>0.377436</td>\n",
              "      <td>-1.387024</td>\n",
              "      <td>-0.054952</td>\n",
              "      <td>-0.226487</td>\n",
              "      <td>0.178228</td>\n",
              "      <td>0.507757</td>\n",
              "      <td>-0.287924</td>\n",
              "      <td>-0.631418</td>\n",
              "      <td>-1.059647</td>\n",
              "      <td>-0.684093</td>\n",
              "      <td>1.965775</td>\n",
              "      <td>-1.232622</td>\n",
              "      <td>-0.208038</td>\n",
              "      <td>-0.108300</td>\n",
              "      <td>0.005274</td>\n",
              "      <td>-0.190321</td>\n",
              "      <td>-1.175575</td>\n",
              "      <td>0.647376</td>\n",
              "      <td>-0.221929</td>\n",
              "      <td>0.062723</td>\n",
              "      <td>0.061458</td>\n",
              "      <td>123.50</td>\n",
              "      <td>0</td>\n",
              "    </tr>\n",
              "    <tr>\n",
              "      <th>4</th>\n",
              "      <td>2.0</td>\n",
              "      <td>-1.158233</td>\n",
              "      <td>0.877737</td>\n",
              "      <td>1.548718</td>\n",
              "      <td>0.403034</td>\n",
              "      <td>-0.407193</td>\n",
              "      <td>0.095921</td>\n",
              "      <td>0.592941</td>\n",
              "      <td>-0.270533</td>\n",
              "      <td>0.817739</td>\n",
              "      <td>0.753074</td>\n",
              "      <td>-0.822843</td>\n",
              "      <td>0.538196</td>\n",
              "      <td>1.345852</td>\n",
              "      <td>-1.119670</td>\n",
              "      <td>0.175121</td>\n",
              "      <td>-0.451449</td>\n",
              "      <td>-0.237033</td>\n",
              "      <td>-0.038195</td>\n",
              "      <td>0.803487</td>\n",
              "      <td>0.408542</td>\n",
              "      <td>-0.009431</td>\n",
              "      <td>0.798278</td>\n",
              "      <td>-0.137458</td>\n",
              "      <td>0.141267</td>\n",
              "      <td>-0.206010</td>\n",
              "      <td>0.502292</td>\n",
              "      <td>0.219422</td>\n",
              "      <td>0.215153</td>\n",
              "      <td>69.99</td>\n",
              "      <td>0</td>\n",
              "    </tr>\n",
              "  </tbody>\n",
              "</table>\n",
              "</div>"
            ],
            "text/plain": [
              "   Time        V1        V2        V3  ...       V27       V28  Amount  Class\n",
              "0   0.0 -1.359807 -0.072781  2.536347  ...  0.133558 -0.021053  149.62      0\n",
              "1   0.0  1.191857  0.266151  0.166480  ... -0.008983  0.014724    2.69      0\n",
              "2   1.0 -1.358354 -1.340163  1.773209  ... -0.055353 -0.059752  378.66      0\n",
              "3   1.0 -0.966272 -0.185226  1.792993  ...  0.062723  0.061458  123.50      0\n",
              "4   2.0 -1.158233  0.877737  1.548718  ...  0.219422  0.215153   69.99      0\n",
              "\n",
              "[5 rows x 31 columns]"
            ]
          },
          "metadata": {
            "tags": []
          },
          "execution_count": 32
        }
      ]
    },
    {
      "cell_type": "code",
      "metadata": {
        "colab": {
          "base_uri": "https://localhost:8080/"
        },
        "id": "7lRj3AeX7rdd",
        "outputId": "0b96913c-23a2-4ca0-ea04-2978f03de981"
      },
      "source": [
        "data[\"Class\"].value_counts()"
      ],
      "execution_count": null,
      "outputs": [
        {
          "output_type": "execute_result",
          "data": {
            "text/plain": [
              "0    284315\n",
              "1       492\n",
              "Name: Class, dtype: int64"
            ]
          },
          "metadata": {
            "tags": []
          },
          "execution_count": 33
        }
      ]
    },
    {
      "cell_type": "code",
      "metadata": {
        "colab": {
          "base_uri": "https://localhost:8080/"
        },
        "id": "1TVWigDl744l",
        "outputId": "7397ff3e-b720-4cd0-ceea-d39d34641580"
      },
      "source": [
        "fraud=data[data[\"Class\"]==1]\n",
        "fraud.shape"
      ],
      "execution_count": null,
      "outputs": [
        {
          "output_type": "execute_result",
          "data": {
            "text/plain": [
              "(492, 31)"
            ]
          },
          "metadata": {
            "tags": []
          },
          "execution_count": 34
        }
      ]
    },
    {
      "cell_type": "code",
      "metadata": {
        "colab": {
          "base_uri": "https://localhost:8080/"
        },
        "id": "0mtQk_5e8Bwt",
        "outputId": "0705811a-0602-47e4-b2c0-b0909890bf08"
      },
      "source": [
        "non_fraud=data[data[\"Class\"]==0]\n",
        "non_fraud.shape"
      ],
      "execution_count": null,
      "outputs": [
        {
          "output_type": "execute_result",
          "data": {
            "text/plain": [
              "(284315, 31)"
            ]
          },
          "metadata": {
            "tags": []
          },
          "execution_count": 35
        }
      ]
    },
    {
      "cell_type": "markdown",
      "metadata": {
        "id": "4m279oef56yi"
      },
      "source": [
        "#Splitting Datasets"
      ]
    },
    {
      "cell_type": "code",
      "metadata": {
        "id": "7v2tAuBb59q4"
      },
      "source": [
        "from sklearn.model_selection import train_test_split"
      ],
      "execution_count": null,
      "outputs": []
    },
    {
      "cell_type": "code",
      "metadata": {
        "id": "ZtBDxc2G7S7E"
      },
      "source": [
        "samp_non_fraud=non_fraud.sample(5*len(fraud))"
      ],
      "execution_count": null,
      "outputs": []
    },
    {
      "cell_type": "code",
      "metadata": {
        "colab": {
          "base_uri": "https://localhost:8080/"
        },
        "id": "USA3n6z59Afl",
        "outputId": "9d890785-e350-4076-869e-eb7e73d1d3db"
      },
      "source": [
        "samp_non_fraud.shape"
      ],
      "execution_count": null,
      "outputs": [
        {
          "output_type": "execute_result",
          "data": {
            "text/plain": [
              "(2460, 31)"
            ]
          },
          "metadata": {
            "tags": []
          },
          "execution_count": 38
        }
      ]
    },
    {
      "cell_type": "code",
      "metadata": {
        "id": "UbEdQw4P9IxA"
      },
      "source": [
        "dataset = fraud.append(samp_non_fraud,ignore_index=True)"
      ],
      "execution_count": null,
      "outputs": []
    },
    {
      "cell_type": "code",
      "metadata": {
        "colab": {
          "base_uri": "https://localhost:8080/"
        },
        "id": "lWQ5l80t93e4",
        "outputId": "15e45b4e-0a2f-40ee-c532-1bace9cb7000"
      },
      "source": [
        "dataset.shape"
      ],
      "execution_count": null,
      "outputs": [
        {
          "output_type": "execute_result",
          "data": {
            "text/plain": [
              "(528, 31)"
            ]
          },
          "metadata": {
            "tags": []
          },
          "execution_count": 23
        }
      ]
    },
    {
      "cell_type": "code",
      "metadata": {
        "id": "lVUrx-tW96Uo"
      },
      "source": [
        "X=dataset.drop(columns=\"Class\",axis=0)"
      ],
      "execution_count": null,
      "outputs": []
    },
    {
      "cell_type": "code",
      "metadata": {
        "id": "v8xf4aSh-CrI"
      },
      "source": [
        "Y=dataset[\"Class\"]"
      ],
      "execution_count": null,
      "outputs": []
    },
    {
      "cell_type": "code",
      "metadata": {
        "id": "nvQGF8Dn-Hqx"
      },
      "source": [
        "X_train,X_test,Y_train,Y_test=train_test_split(X,Y,test_size=0.3,random_state=200,stratify=Y)"
      ],
      "execution_count": null,
      "outputs": []
    },
    {
      "cell_type": "markdown",
      "metadata": {
        "id": "MY7v4A9D-cCE"
      },
      "source": [
        "#Standard Scaling"
      ]
    },
    {
      "cell_type": "code",
      "metadata": {
        "id": "-BxJd-z6-Z97"
      },
      "source": [
        "from sklearn.preprocessing import StandardScaler"
      ],
      "execution_count": null,
      "outputs": []
    },
    {
      "cell_type": "code",
      "metadata": {
        "id": "WOSL8NDc-icC"
      },
      "source": [
        "scaler=StandardScaler()"
      ],
      "execution_count": null,
      "outputs": []
    },
    {
      "cell_type": "code",
      "metadata": {
        "id": "UheJ8phozTnn"
      },
      "source": [
        "model=scaler.fit(X_train)"
      ],
      "execution_count": null,
      "outputs": []
    },
    {
      "cell_type": "code",
      "metadata": {
        "id": "RSS_QS5gzZSX"
      },
      "source": [
        "X_train=model.transform(X_train)"
      ],
      "execution_count": null,
      "outputs": []
    },
    {
      "cell_type": "code",
      "metadata": {
        "colab": {
          "base_uri": "https://localhost:8080/"
        },
        "id": "uEOgcaKHzhOo",
        "outputId": "a62a5cbe-88ae-433f-b664-772b4980c3ae"
      },
      "source": [
        "scaler.fit(X_test)"
      ],
      "execution_count": null,
      "outputs": [
        {
          "output_type": "execute_result",
          "data": {
            "text/plain": [
              "StandardScaler(copy=True, with_mean=True, with_std=True)"
            ]
          },
          "metadata": {
            "tags": []
          },
          "execution_count": 51
        }
      ]
    },
    {
      "cell_type": "code",
      "metadata": {
        "id": "K-hLsd0c0JUZ"
      },
      "source": [
        "model1=scaler.fit(X_test)"
      ],
      "execution_count": null,
      "outputs": []
    },
    {
      "cell_type": "code",
      "metadata": {
        "id": "SzyUjOoaz-yR"
      },
      "source": [
        "X_test=model.transform(X_test)"
      ],
      "execution_count": null,
      "outputs": []
    },
    {
      "cell_type": "markdown",
      "metadata": {
        "id": "EfXXUTMa0UZk"
      },
      "source": [
        "#Model"
      ]
    },
    {
      "cell_type": "code",
      "metadata": {
        "id": "BEVt2Q9S0ONA"
      },
      "source": [
        "from tensorflow.keras import models as M\n",
        "from tensorflow.keras import layers as L"
      ],
      "execution_count": null,
      "outputs": []
    },
    {
      "cell_type": "code",
      "metadata": {
        "id": "XW-jwXDz0RYA"
      },
      "source": [
        "network=M.Sequential()\n",
        "network.add(L.Dense(30,activation=\"relu\",input_shape=(X_train.shape[1],)))\n",
        "network.add(L.Dense(20,activation=\"relu\"))\n",
        "network.add(L.Dense(10,activation=\"relu\"))\n",
        "network.add(L.Dense(5,activation=\"relu\"))\n",
        "network.add(L.Dense(1,activation=\"sigmoid\"))"
      ],
      "execution_count": null,
      "outputs": []
    },
    {
      "cell_type": "code",
      "metadata": {
        "id": "ywi48yM20iIw"
      },
      "source": [
        "network.compile(loss=\"binary_crossentropy\",optimizer=\"rmsprop\",metrics=[\"accuracy\"])"
      ],
      "execution_count": null,
      "outputs": []
    },
    {
      "cell_type": "code",
      "metadata": {
        "colab": {
          "base_uri": "https://localhost:8080/"
        },
        "id": "C8HtKBxo3nzR",
        "outputId": "34fb43cc-255e-4fcc-d4df-f2ec86114df9"
      },
      "source": [
        "network.fit(X_train,Y_train,epochs=100,validation_split=0.3)"
      ],
      "execution_count": null,
      "outputs": [
        {
          "output_type": "stream",
          "text": [
            "Epoch 1/100\n",
            "46/46 [==============================] - 1s 7ms/step - loss: 0.6530 - accuracy: 0.6573 - val_loss: 0.4267 - val_accuracy: 0.9419\n",
            "Epoch 2/100\n",
            "46/46 [==============================] - 0s 2ms/step - loss: 0.3411 - accuracy: 0.9574 - val_loss: 0.1642 - val_accuracy: 0.9661\n",
            "Epoch 3/100\n",
            "46/46 [==============================] - 0s 2ms/step - loss: 0.1568 - accuracy: 0.9648 - val_loss: 0.1020 - val_accuracy: 0.9758\n",
            "Epoch 4/100\n",
            "46/46 [==============================] - 0s 2ms/step - loss: 0.1145 - accuracy: 0.9710 - val_loss: 0.0877 - val_accuracy: 0.9774\n",
            "Epoch 5/100\n",
            "46/46 [==============================] - 0s 2ms/step - loss: 0.1090 - accuracy: 0.9717 - val_loss: 0.0826 - val_accuracy: 0.9774\n",
            "Epoch 6/100\n",
            "46/46 [==============================] - 0s 2ms/step - loss: 0.0897 - accuracy: 0.9754 - val_loss: 0.0824 - val_accuracy: 0.9726\n",
            "Epoch 7/100\n",
            "46/46 [==============================] - 0s 2ms/step - loss: 0.0973 - accuracy: 0.9697 - val_loss: 0.0797 - val_accuracy: 0.9758\n",
            "Epoch 8/100\n",
            "46/46 [==============================] - 0s 2ms/step - loss: 0.0958 - accuracy: 0.9709 - val_loss: 0.0787 - val_accuracy: 0.9774\n",
            "Epoch 9/100\n",
            "46/46 [==============================] - 0s 2ms/step - loss: 0.0708 - accuracy: 0.9819 - val_loss: 0.0789 - val_accuracy: 0.9742\n",
            "Epoch 10/100\n",
            "46/46 [==============================] - 0s 2ms/step - loss: 0.0816 - accuracy: 0.9777 - val_loss: 0.0783 - val_accuracy: 0.9758\n",
            "Epoch 11/100\n",
            "46/46 [==============================] - 0s 2ms/step - loss: 0.0677 - accuracy: 0.9822 - val_loss: 0.0775 - val_accuracy: 0.9742\n",
            "Epoch 12/100\n",
            "46/46 [==============================] - 0s 2ms/step - loss: 0.0867 - accuracy: 0.9779 - val_loss: 0.0766 - val_accuracy: 0.9758\n",
            "Epoch 13/100\n",
            "46/46 [==============================] - 0s 3ms/step - loss: 0.0670 - accuracy: 0.9806 - val_loss: 0.0762 - val_accuracy: 0.9758\n",
            "Epoch 14/100\n",
            "46/46 [==============================] - 0s 3ms/step - loss: 0.0477 - accuracy: 0.9859 - val_loss: 0.0778 - val_accuracy: 0.9758\n",
            "Epoch 15/100\n",
            "46/46 [==============================] - 0s 2ms/step - loss: 0.0550 - accuracy: 0.9845 - val_loss: 0.0788 - val_accuracy: 0.9758\n",
            "Epoch 16/100\n",
            "46/46 [==============================] - 0s 2ms/step - loss: 0.0523 - accuracy: 0.9869 - val_loss: 0.0766 - val_accuracy: 0.9758\n",
            "Epoch 17/100\n",
            "46/46 [==============================] - 0s 2ms/step - loss: 0.0493 - accuracy: 0.9824 - val_loss: 0.0785 - val_accuracy: 0.9758\n",
            "Epoch 18/100\n",
            "46/46 [==============================] - 0s 2ms/step - loss: 0.0475 - accuracy: 0.9881 - val_loss: 0.0777 - val_accuracy: 0.9774\n",
            "Epoch 19/100\n",
            "46/46 [==============================] - 0s 2ms/step - loss: 0.0593 - accuracy: 0.9854 - val_loss: 0.0787 - val_accuracy: 0.9758\n",
            "Epoch 20/100\n",
            "46/46 [==============================] - 0s 2ms/step - loss: 0.0401 - accuracy: 0.9898 - val_loss: 0.0839 - val_accuracy: 0.9742\n",
            "Epoch 21/100\n",
            "46/46 [==============================] - 0s 2ms/step - loss: 0.0574 - accuracy: 0.9856 - val_loss: 0.0825 - val_accuracy: 0.9774\n",
            "Epoch 22/100\n",
            "46/46 [==============================] - 0s 2ms/step - loss: 0.0416 - accuracy: 0.9894 - val_loss: 0.0822 - val_accuracy: 0.9774\n",
            "Epoch 23/100\n",
            "46/46 [==============================] - 0s 2ms/step - loss: 0.0506 - accuracy: 0.9865 - val_loss: 0.0823 - val_accuracy: 0.9774\n",
            "Epoch 24/100\n",
            "46/46 [==============================] - 0s 2ms/step - loss: 0.0337 - accuracy: 0.9884 - val_loss: 0.0874 - val_accuracy: 0.9758\n",
            "Epoch 25/100\n",
            "46/46 [==============================] - 0s 2ms/step - loss: 0.0475 - accuracy: 0.9878 - val_loss: 0.0894 - val_accuracy: 0.9774\n",
            "Epoch 26/100\n",
            "46/46 [==============================] - 0s 3ms/step - loss: 0.0412 - accuracy: 0.9873 - val_loss: 0.0867 - val_accuracy: 0.9774\n",
            "Epoch 27/100\n",
            "46/46 [==============================] - 0s 2ms/step - loss: 0.0446 - accuracy: 0.9879 - val_loss: 0.0897 - val_accuracy: 0.9774\n",
            "Epoch 28/100\n",
            "46/46 [==============================] - 0s 2ms/step - loss: 0.0237 - accuracy: 0.9943 - val_loss: 0.0899 - val_accuracy: 0.9790\n",
            "Epoch 29/100\n",
            "46/46 [==============================] - 0s 2ms/step - loss: 0.0327 - accuracy: 0.9901 - val_loss: 0.1007 - val_accuracy: 0.9710\n",
            "Epoch 30/100\n",
            "46/46 [==============================] - 0s 2ms/step - loss: 0.0390 - accuracy: 0.9905 - val_loss: 0.0966 - val_accuracy: 0.9742\n",
            "Epoch 31/100\n",
            "46/46 [==============================] - 0s 3ms/step - loss: 0.0365 - accuracy: 0.9893 - val_loss: 0.0974 - val_accuracy: 0.9758\n",
            "Epoch 32/100\n",
            "46/46 [==============================] - 0s 2ms/step - loss: 0.0342 - accuracy: 0.9915 - val_loss: 0.0965 - val_accuracy: 0.9774\n",
            "Epoch 33/100\n",
            "46/46 [==============================] - 0s 2ms/step - loss: 0.0288 - accuracy: 0.9926 - val_loss: 0.0989 - val_accuracy: 0.9742\n",
            "Epoch 34/100\n",
            "46/46 [==============================] - 0s 3ms/step - loss: 0.0220 - accuracy: 0.9959 - val_loss: 0.1046 - val_accuracy: 0.9742\n",
            "Epoch 35/100\n",
            "46/46 [==============================] - 0s 2ms/step - loss: 0.0387 - accuracy: 0.9908 - val_loss: 0.1060 - val_accuracy: 0.9742\n",
            "Epoch 36/100\n",
            "46/46 [==============================] - 0s 2ms/step - loss: 0.0340 - accuracy: 0.9933 - val_loss: 0.1130 - val_accuracy: 0.9726\n",
            "Epoch 37/100\n",
            "46/46 [==============================] - 0s 2ms/step - loss: 0.0176 - accuracy: 0.9972 - val_loss: 0.1155 - val_accuracy: 0.9726\n",
            "Epoch 38/100\n",
            "46/46 [==============================] - 0s 3ms/step - loss: 0.0181 - accuracy: 0.9966 - val_loss: 0.1138 - val_accuracy: 0.9726\n",
            "Epoch 39/100\n",
            "46/46 [==============================] - 0s 2ms/step - loss: 0.0303 - accuracy: 0.9939 - val_loss: 0.1166 - val_accuracy: 0.9758\n",
            "Epoch 40/100\n",
            "46/46 [==============================] - 0s 2ms/step - loss: 0.0149 - accuracy: 0.9971 - val_loss: 0.1246 - val_accuracy: 0.9726\n",
            "Epoch 41/100\n",
            "46/46 [==============================] - 0s 2ms/step - loss: 0.0125 - accuracy: 0.9977 - val_loss: 0.1261 - val_accuracy: 0.9726\n",
            "Epoch 42/100\n",
            "46/46 [==============================] - 0s 3ms/step - loss: 0.0238 - accuracy: 0.9942 - val_loss: 0.1308 - val_accuracy: 0.9742\n",
            "Epoch 43/100\n",
            "46/46 [==============================] - 0s 2ms/step - loss: 0.0120 - accuracy: 0.9979 - val_loss: 0.1344 - val_accuracy: 0.9710\n",
            "Epoch 44/100\n",
            "46/46 [==============================] - 0s 2ms/step - loss: 0.0126 - accuracy: 0.9977 - val_loss: 0.1303 - val_accuracy: 0.9742\n",
            "Epoch 45/100\n",
            "46/46 [==============================] - 0s 2ms/step - loss: 0.0140 - accuracy: 0.9970 - val_loss: 0.1366 - val_accuracy: 0.9726\n",
            "Epoch 46/100\n",
            "46/46 [==============================] - 0s 3ms/step - loss: 0.0122 - accuracy: 0.9974 - val_loss: 0.1399 - val_accuracy: 0.9710\n",
            "Epoch 47/100\n",
            "46/46 [==============================] - 0s 2ms/step - loss: 0.0137 - accuracy: 0.9962 - val_loss: 0.1459 - val_accuracy: 0.9710\n",
            "Epoch 48/100\n",
            "46/46 [==============================] - 0s 2ms/step - loss: 0.0197 - accuracy: 0.9944 - val_loss: 0.1467 - val_accuracy: 0.9710\n",
            "Epoch 49/100\n",
            "46/46 [==============================] - 0s 3ms/step - loss: 0.0128 - accuracy: 0.9967 - val_loss: 0.1439 - val_accuracy: 0.9726\n",
            "Epoch 50/100\n",
            "46/46 [==============================] - 0s 2ms/step - loss: 0.0096 - accuracy: 0.9972 - val_loss: 0.1558 - val_accuracy: 0.9710\n",
            "Epoch 51/100\n",
            "46/46 [==============================] - 0s 2ms/step - loss: 0.0154 - accuracy: 0.9952 - val_loss: 0.1585 - val_accuracy: 0.9742\n",
            "Epoch 52/100\n",
            "46/46 [==============================] - 0s 2ms/step - loss: 0.0130 - accuracy: 0.9955 - val_loss: 0.1567 - val_accuracy: 0.9726\n",
            "Epoch 53/100\n",
            "46/46 [==============================] - 0s 2ms/step - loss: 0.0100 - accuracy: 0.9973 - val_loss: 0.1586 - val_accuracy: 0.9694\n",
            "Epoch 54/100\n",
            "46/46 [==============================] - 0s 2ms/step - loss: 0.0209 - accuracy: 0.9945 - val_loss: 0.1678 - val_accuracy: 0.9710\n",
            "Epoch 55/100\n",
            "46/46 [==============================] - 0s 2ms/step - loss: 0.0081 - accuracy: 0.9978 - val_loss: 0.1614 - val_accuracy: 0.9677\n",
            "Epoch 56/100\n",
            "46/46 [==============================] - 0s 3ms/step - loss: 0.0108 - accuracy: 0.9955 - val_loss: 0.1828 - val_accuracy: 0.9661\n",
            "Epoch 57/100\n",
            "46/46 [==============================] - 0s 3ms/step - loss: 0.0070 - accuracy: 0.9976 - val_loss: 0.1835 - val_accuracy: 0.9694\n",
            "Epoch 58/100\n",
            "46/46 [==============================] - 0s 3ms/step - loss: 0.0069 - accuracy: 0.9976 - val_loss: 0.2023 - val_accuracy: 0.9710\n",
            "Epoch 59/100\n",
            "46/46 [==============================] - 0s 2ms/step - loss: 0.0056 - accuracy: 0.9985 - val_loss: 0.2114 - val_accuracy: 0.9677\n",
            "Epoch 60/100\n",
            "46/46 [==============================] - 0s 2ms/step - loss: 0.0032 - accuracy: 0.9996 - val_loss: 0.2511 - val_accuracy: 0.9597\n",
            "Epoch 61/100\n",
            "46/46 [==============================] - 0s 2ms/step - loss: 0.0053 - accuracy: 0.9972 - val_loss: 0.2237 - val_accuracy: 0.9661\n",
            "Epoch 62/100\n",
            "46/46 [==============================] - 0s 2ms/step - loss: 0.0056 - accuracy: 0.9985 - val_loss: 0.2456 - val_accuracy: 0.9661\n",
            "Epoch 63/100\n",
            "46/46 [==============================] - 0s 2ms/step - loss: 0.0018 - accuracy: 0.9999 - val_loss: 0.2470 - val_accuracy: 0.9677\n",
            "Epoch 64/100\n",
            "46/46 [==============================] - 0s 2ms/step - loss: 0.0030 - accuracy: 0.9988 - val_loss: 0.2595 - val_accuracy: 0.9661\n",
            "Epoch 65/100\n",
            "46/46 [==============================] - 0s 2ms/step - loss: 0.0022 - accuracy: 0.9995 - val_loss: 0.2626 - val_accuracy: 0.9677\n",
            "Epoch 66/100\n",
            "46/46 [==============================] - 0s 3ms/step - loss: 0.0014 - accuracy: 0.9999 - val_loss: 0.2654 - val_accuracy: 0.9677\n",
            "Epoch 67/100\n",
            "46/46 [==============================] - 0s 3ms/step - loss: 0.0022 - accuracy: 0.9994 - val_loss: 0.2763 - val_accuracy: 0.9677\n",
            "Epoch 68/100\n",
            "46/46 [==============================] - 0s 2ms/step - loss: 0.0030 - accuracy: 0.9993 - val_loss: 0.2902 - val_accuracy: 0.9694\n",
            "Epoch 69/100\n",
            "46/46 [==============================] - 0s 3ms/step - loss: 0.0011 - accuracy: 0.9997 - val_loss: 0.3090 - val_accuracy: 0.9694\n",
            "Epoch 70/100\n",
            "46/46 [==============================] - 0s 2ms/step - loss: 6.2218e-04 - accuracy: 1.0000 - val_loss: 0.3170 - val_accuracy: 0.9694\n",
            "Epoch 71/100\n",
            "46/46 [==============================] - 0s 2ms/step - loss: 6.1647e-04 - accuracy: 1.0000 - val_loss: 0.3643 - val_accuracy: 0.9661\n",
            "Epoch 72/100\n",
            "46/46 [==============================] - 0s 2ms/step - loss: 2.8021e-04 - accuracy: 1.0000 - val_loss: 0.3487 - val_accuracy: 0.9694\n",
            "Epoch 73/100\n",
            "46/46 [==============================] - 0s 2ms/step - loss: 1.5831e-04 - accuracy: 1.0000 - val_loss: 0.3892 - val_accuracy: 0.9581\n",
            "Epoch 74/100\n",
            "46/46 [==============================] - 0s 2ms/step - loss: 1.6342e-04 - accuracy: 1.0000 - val_loss: 0.3696 - val_accuracy: 0.9629\n",
            "Epoch 75/100\n",
            "46/46 [==============================] - 0s 2ms/step - loss: 1.6472e-04 - accuracy: 1.0000 - val_loss: 0.3823 - val_accuracy: 0.9645\n",
            "Epoch 76/100\n",
            "46/46 [==============================] - 0s 2ms/step - loss: 5.9648e-05 - accuracy: 1.0000 - val_loss: 0.4111 - val_accuracy: 0.9645\n",
            "Epoch 77/100\n",
            "46/46 [==============================] - 0s 3ms/step - loss: 5.8318e-05 - accuracy: 1.0000 - val_loss: 0.4100 - val_accuracy: 0.9677\n",
            "Epoch 78/100\n",
            "46/46 [==============================] - 0s 2ms/step - loss: 3.6151e-05 - accuracy: 1.0000 - val_loss: 0.4475 - val_accuracy: 0.9613\n",
            "Epoch 79/100\n",
            "46/46 [==============================] - 0s 2ms/step - loss: 3.2149e-05 - accuracy: 1.0000 - val_loss: 0.4298 - val_accuracy: 0.9677\n",
            "Epoch 80/100\n",
            "46/46 [==============================] - 0s 2ms/step - loss: 3.3949e-05 - accuracy: 1.0000 - val_loss: 0.4583 - val_accuracy: 0.9661\n",
            "Epoch 81/100\n",
            "46/46 [==============================] - 0s 3ms/step - loss: 2.3126e-05 - accuracy: 1.0000 - val_loss: 0.4619 - val_accuracy: 0.9661\n",
            "Epoch 82/100\n",
            "46/46 [==============================] - 0s 2ms/step - loss: 8.6271e-06 - accuracy: 1.0000 - val_loss: 0.4819 - val_accuracy: 0.9677\n",
            "Epoch 83/100\n",
            "46/46 [==============================] - 0s 2ms/step - loss: 0.0051 - accuracy: 0.9996 - val_loss: 0.4938 - val_accuracy: 0.9645\n",
            "Epoch 84/100\n",
            "46/46 [==============================] - 0s 2ms/step - loss: 1.9664e-05 - accuracy: 1.0000 - val_loss: 0.4854 - val_accuracy: 0.9661\n",
            "Epoch 85/100\n",
            "46/46 [==============================] - 0s 2ms/step - loss: 2.5539e-06 - accuracy: 1.0000 - val_loss: 0.5080 - val_accuracy: 0.9645\n",
            "Epoch 86/100\n",
            "46/46 [==============================] - 0s 2ms/step - loss: 6.3771e-06 - accuracy: 1.0000 - val_loss: 0.4890 - val_accuracy: 0.9661\n",
            "Epoch 87/100\n",
            "46/46 [==============================] - 0s 2ms/step - loss: 8.2274e-06 - accuracy: 1.0000 - val_loss: 0.4813 - val_accuracy: 0.9629\n",
            "Epoch 88/100\n",
            "46/46 [==============================] - 0s 2ms/step - loss: 2.1404e-06 - accuracy: 1.0000 - val_loss: 0.4877 - val_accuracy: 0.9661\n",
            "Epoch 89/100\n",
            "46/46 [==============================] - 0s 3ms/step - loss: 2.6782e-06 - accuracy: 1.0000 - val_loss: 0.5134 - val_accuracy: 0.9661\n",
            "Epoch 90/100\n",
            "46/46 [==============================] - 0s 2ms/step - loss: 2.1526e-06 - accuracy: 1.0000 - val_loss: 0.5130 - val_accuracy: 0.9661\n",
            "Epoch 91/100\n",
            "46/46 [==============================] - 0s 2ms/step - loss: 8.7768e-07 - accuracy: 1.0000 - val_loss: 0.5295 - val_accuracy: 0.9645\n",
            "Epoch 92/100\n",
            "46/46 [==============================] - 0s 2ms/step - loss: 1.0889e-06 - accuracy: 1.0000 - val_loss: 0.5452 - val_accuracy: 0.9645\n",
            "Epoch 93/100\n",
            "46/46 [==============================] - 0s 2ms/step - loss: 2.6271e-07 - accuracy: 1.0000 - val_loss: 0.5591 - val_accuracy: 0.9677\n",
            "Epoch 94/100\n",
            "46/46 [==============================] - 0s 2ms/step - loss: 1.2226e-06 - accuracy: 1.0000 - val_loss: 0.5632 - val_accuracy: 0.9677\n",
            "Epoch 95/100\n",
            "46/46 [==============================] - 0s 3ms/step - loss: 1.2512e-07 - accuracy: 1.0000 - val_loss: 0.5842 - val_accuracy: 0.9645\n",
            "Epoch 96/100\n",
            "46/46 [==============================] - 0s 2ms/step - loss: 2.8404e-07 - accuracy: 1.0000 - val_loss: 0.6214 - val_accuracy: 0.9629\n",
            "Epoch 97/100\n",
            "46/46 [==============================] - 0s 2ms/step - loss: 1.6036e-07 - accuracy: 1.0000 - val_loss: 0.5891 - val_accuracy: 0.9694\n",
            "Epoch 98/100\n",
            "46/46 [==============================] - 0s 2ms/step - loss: 5.2044e-08 - accuracy: 1.0000 - val_loss: 0.6483 - val_accuracy: 0.9661\n",
            "Epoch 99/100\n",
            "46/46 [==============================] - 0s 2ms/step - loss: 7.4482e-08 - accuracy: 1.0000 - val_loss: 0.6961 - val_accuracy: 0.9613\n",
            "Epoch 100/100\n",
            "46/46 [==============================] - 0s 2ms/step - loss: 9.8068e-08 - accuracy: 1.0000 - val_loss: 0.6706 - val_accuracy: 0.9629\n"
          ],
          "name": "stdout"
        },
        {
          "output_type": "execute_result",
          "data": {
            "text/plain": [
              "<tensorflow.python.keras.callbacks.History at 0x7ff5280f6350>"
            ]
          },
          "metadata": {
            "tags": []
          },
          "execution_count": 67
        }
      ]
    },
    {
      "cell_type": "code",
      "metadata": {
        "colab": {
          "base_uri": "https://localhost:8080/"
        },
        "id": "nGAr-66w3vF4",
        "outputId": "01511eff-f418-4922-b4ac-93caf7772cc7"
      },
      "source": [
        "network_loss,network_accuracy=network.evaluate(X_test,Y_test)"
      ],
      "execution_count": null,
      "outputs": [
        {
          "output_type": "stream",
          "text": [
            "28/28 [==============================] - 0s 948us/step - loss: 0.8012 - accuracy: 0.9661\n"
          ],
          "name": "stdout"
        }
      ]
    },
    {
      "cell_type": "code",
      "metadata": {
        "id": "i5m41zhi4Bh4"
      },
      "source": [
        ""
      ],
      "execution_count": null,
      "outputs": []
    }
  ]
}